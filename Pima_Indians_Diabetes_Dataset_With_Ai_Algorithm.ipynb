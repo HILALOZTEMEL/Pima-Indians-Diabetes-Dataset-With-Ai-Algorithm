{
  "nbformat": 4,
  "nbformat_minor": 0,
  "metadata": {
    "colab": {
      "provenance": [],
      "toc_visible": true,
      "include_colab_link": true
    },
    "kernelspec": {
      "name": "python3",
      "display_name": "Python 3"
    },
    "language_info": {
      "name": "python"
    }
  },
  "cells": [
    {
      "cell_type": "markdown",
      "metadata": {
        "id": "view-in-github",
        "colab_type": "text"
      },
      "source": [
        "<a href=\"https://colab.research.google.com/github/HILALOZTEMEL/Pima-Indians-Diabetes-Dataset-With-Ai-Algorithm/blob/main/Pima_Indians_Diabetes_Dataset_With_Ai_Algorithm.ipynb\" target=\"_parent\"><img src=\"https://colab.research.google.com/assets/colab-badge.svg\" alt=\"Open In Colab\"/></a>"
      ]
    },
    {
      "cell_type": "code",
      "source": [
        "import pandas as pd\n",
        "import matplotlib.pyplot as plt\n",
        "from sklearn.preprocessing import MinMaxScaler\n",
        "from sklearn.decomposition import PCA\n",
        "from sklearn.discriminant_analysis import LinearDiscriminantAnalysis as LDA\n",
        "from sklearn.model_selection import train_test_split\n",
        "from sklearn.linear_model import LinearRegression\n",
        "from sklearn.metrics import mean_squared_error, r2_score\n",
        "from sklearn.linear_model import LogisticRegression\n",
        "from sklearn.tree import DecisionTreeClassifier\n",
        "from sklearn.metrics import classification_report, confusion_matrix, accuracy_score\n",
        "from sklearn.naive_bayes import GaussianNB"
      ],
      "metadata": {
        "id": "m5qT_g44MwqH"
      },
      "execution_count": null,
      "outputs": []
    },
    {
      "cell_type": "code",
      "execution_count": null,
      "metadata": {
        "colab": {
          "base_uri": "https://localhost:8080/",
          "height": 241
        },
        "id": "NZuVluokMHDN",
        "outputId": "c9e21a7b-fb4c-4c4e-c2db-ce6a9982ee8b"
      },
      "outputs": [
        {
          "output_type": "execute_result",
          "data": {
            "text/plain": [
              "   Number of times pregnant  \\\n",
              "0                         6   \n",
              "1                         1   \n",
              "2                         8   \n",
              "3                         1   \n",
              "4                         0   \n",
              "\n",
              "   Plasma glucose concentration a 2 hours in an oral glucose tolerance test  \\\n",
              "0                                                148                          \n",
              "1                                                 85                          \n",
              "2                                                183                          \n",
              "3                                                 89                          \n",
              "4                                                137                          \n",
              "\n",
              "   Diastolic blood pressure (mm Hg)  Triceps skinfold thickness (mm)  \\\n",
              "0                                72                               35   \n",
              "1                                66                               29   \n",
              "2                                64                                0   \n",
              "3                                66                               23   \n",
              "4                                40                               35   \n",
              "\n",
              "   2-Hour serum insulin (mu U/ml)  \\\n",
              "0                               0   \n",
              "1                               0   \n",
              "2                               0   \n",
              "3                              94   \n",
              "4                             168   \n",
              "\n",
              "   Body mass index (weight in kg/(height in m)^2)  Diabetes pedigree function  \\\n",
              "0                                            33.6                       0.627   \n",
              "1                                            26.6                       0.351   \n",
              "2                                            23.3                       0.672   \n",
              "3                                            28.1                       0.167   \n",
              "4                                            43.1                       2.288   \n",
              "\n",
              "   Age (years)  Class variable (0 or 1)  \n",
              "0           50                        1  \n",
              "1           31                        0  \n",
              "2           32                        1  \n",
              "3           21                        0  \n",
              "4           33                        1  "
            ],
            "text/html": [
              "\n",
              "  <div id=\"df-75fdcd74-ef26-4d6e-a156-4893e7364f40\" class=\"colab-df-container\">\n",
              "    <div>\n",
              "<style scoped>\n",
              "    .dataframe tbody tr th:only-of-type {\n",
              "        vertical-align: middle;\n",
              "    }\n",
              "\n",
              "    .dataframe tbody tr th {\n",
              "        vertical-align: top;\n",
              "    }\n",
              "\n",
              "    .dataframe thead th {\n",
              "        text-align: right;\n",
              "    }\n",
              "</style>\n",
              "<table border=\"1\" class=\"dataframe\">\n",
              "  <thead>\n",
              "    <tr style=\"text-align: right;\">\n",
              "      <th></th>\n",
              "      <th>Number of times pregnant</th>\n",
              "      <th>Plasma glucose concentration a 2 hours in an oral glucose tolerance test</th>\n",
              "      <th>Diastolic blood pressure (mm Hg)</th>\n",
              "      <th>Triceps skinfold thickness (mm)</th>\n",
              "      <th>2-Hour serum insulin (mu U/ml)</th>\n",
              "      <th>Body mass index (weight in kg/(height in m)^2)</th>\n",
              "      <th>Diabetes pedigree function</th>\n",
              "      <th>Age (years)</th>\n",
              "      <th>Class variable (0 or 1)</th>\n",
              "    </tr>\n",
              "  </thead>\n",
              "  <tbody>\n",
              "    <tr>\n",
              "      <th>0</th>\n",
              "      <td>6</td>\n",
              "      <td>148</td>\n",
              "      <td>72</td>\n",
              "      <td>35</td>\n",
              "      <td>0</td>\n",
              "      <td>33.6</td>\n",
              "      <td>0.627</td>\n",
              "      <td>50</td>\n",
              "      <td>1</td>\n",
              "    </tr>\n",
              "    <tr>\n",
              "      <th>1</th>\n",
              "      <td>1</td>\n",
              "      <td>85</td>\n",
              "      <td>66</td>\n",
              "      <td>29</td>\n",
              "      <td>0</td>\n",
              "      <td>26.6</td>\n",
              "      <td>0.351</td>\n",
              "      <td>31</td>\n",
              "      <td>0</td>\n",
              "    </tr>\n",
              "    <tr>\n",
              "      <th>2</th>\n",
              "      <td>8</td>\n",
              "      <td>183</td>\n",
              "      <td>64</td>\n",
              "      <td>0</td>\n",
              "      <td>0</td>\n",
              "      <td>23.3</td>\n",
              "      <td>0.672</td>\n",
              "      <td>32</td>\n",
              "      <td>1</td>\n",
              "    </tr>\n",
              "    <tr>\n",
              "      <th>3</th>\n",
              "      <td>1</td>\n",
              "      <td>89</td>\n",
              "      <td>66</td>\n",
              "      <td>23</td>\n",
              "      <td>94</td>\n",
              "      <td>28.1</td>\n",
              "      <td>0.167</td>\n",
              "      <td>21</td>\n",
              "      <td>0</td>\n",
              "    </tr>\n",
              "    <tr>\n",
              "      <th>4</th>\n",
              "      <td>0</td>\n",
              "      <td>137</td>\n",
              "      <td>40</td>\n",
              "      <td>35</td>\n",
              "      <td>168</td>\n",
              "      <td>43.1</td>\n",
              "      <td>2.288</td>\n",
              "      <td>33</td>\n",
              "      <td>1</td>\n",
              "    </tr>\n",
              "  </tbody>\n",
              "</table>\n",
              "</div>\n",
              "    <div class=\"colab-df-buttons\">\n",
              "\n",
              "  <div class=\"colab-df-container\">\n",
              "    <button class=\"colab-df-convert\" onclick=\"convertToInteractive('df-75fdcd74-ef26-4d6e-a156-4893e7364f40')\"\n",
              "            title=\"Convert this dataframe to an interactive table.\"\n",
              "            style=\"display:none;\">\n",
              "\n",
              "  <svg xmlns=\"http://www.w3.org/2000/svg\" height=\"24px\" viewBox=\"0 -960 960 960\">\n",
              "    <path d=\"M120-120v-720h720v720H120Zm60-500h600v-160H180v160Zm220 220h160v-160H400v160Zm0 220h160v-160H400v160ZM180-400h160v-160H180v160Zm440 0h160v-160H620v160ZM180-180h160v-160H180v160Zm440 0h160v-160H620v160Z\"/>\n",
              "  </svg>\n",
              "    </button>\n",
              "\n",
              "  <style>\n",
              "    .colab-df-container {\n",
              "      display:flex;\n",
              "      gap: 12px;\n",
              "    }\n",
              "\n",
              "    .colab-df-convert {\n",
              "      background-color: #E8F0FE;\n",
              "      border: none;\n",
              "      border-radius: 50%;\n",
              "      cursor: pointer;\n",
              "      display: none;\n",
              "      fill: #1967D2;\n",
              "      height: 32px;\n",
              "      padding: 0 0 0 0;\n",
              "      width: 32px;\n",
              "    }\n",
              "\n",
              "    .colab-df-convert:hover {\n",
              "      background-color: #E2EBFA;\n",
              "      box-shadow: 0px 1px 2px rgba(60, 64, 67, 0.3), 0px 1px 3px 1px rgba(60, 64, 67, 0.15);\n",
              "      fill: #174EA6;\n",
              "    }\n",
              "\n",
              "    .colab-df-buttons div {\n",
              "      margin-bottom: 4px;\n",
              "    }\n",
              "\n",
              "    [theme=dark] .colab-df-convert {\n",
              "      background-color: #3B4455;\n",
              "      fill: #D2E3FC;\n",
              "    }\n",
              "\n",
              "    [theme=dark] .colab-df-convert:hover {\n",
              "      background-color: #434B5C;\n",
              "      box-shadow: 0px 1px 3px 1px rgba(0, 0, 0, 0.15);\n",
              "      filter: drop-shadow(0px 1px 2px rgba(0, 0, 0, 0.3));\n",
              "      fill: #FFFFFF;\n",
              "    }\n",
              "  </style>\n",
              "\n",
              "    <script>\n",
              "      const buttonEl =\n",
              "        document.querySelector('#df-75fdcd74-ef26-4d6e-a156-4893e7364f40 button.colab-df-convert');\n",
              "      buttonEl.style.display =\n",
              "        google.colab.kernel.accessAllowed ? 'block' : 'none';\n",
              "\n",
              "      async function convertToInteractive(key) {\n",
              "        const element = document.querySelector('#df-75fdcd74-ef26-4d6e-a156-4893e7364f40');\n",
              "        const dataTable =\n",
              "          await google.colab.kernel.invokeFunction('convertToInteractive',\n",
              "                                                    [key], {});\n",
              "        if (!dataTable) return;\n",
              "\n",
              "        const docLinkHtml = 'Like what you see? Visit the ' +\n",
              "          '<a target=\"_blank\" href=https://colab.research.google.com/notebooks/data_table.ipynb>data table notebook</a>'\n",
              "          + ' to learn more about interactive tables.';\n",
              "        element.innerHTML = '';\n",
              "        dataTable['output_type'] = 'display_data';\n",
              "        await google.colab.output.renderOutput(dataTable, element);\n",
              "        const docLink = document.createElement('div');\n",
              "        docLink.innerHTML = docLinkHtml;\n",
              "        element.appendChild(docLink);\n",
              "      }\n",
              "    </script>\n",
              "  </div>\n",
              "\n",
              "\n",
              "<div id=\"df-669f2b21-93d1-4a89-998c-be93aafee87b\">\n",
              "  <button class=\"colab-df-quickchart\" onclick=\"quickchart('df-669f2b21-93d1-4a89-998c-be93aafee87b')\"\n",
              "            title=\"Suggest charts\"\n",
              "            style=\"display:none;\">\n",
              "\n",
              "<svg xmlns=\"http://www.w3.org/2000/svg\" height=\"24px\"viewBox=\"0 0 24 24\"\n",
              "     width=\"24px\">\n",
              "    <g>\n",
              "        <path d=\"M19 3H5c-1.1 0-2 .9-2 2v14c0 1.1.9 2 2 2h14c1.1 0 2-.9 2-2V5c0-1.1-.9-2-2-2zM9 17H7v-7h2v7zm4 0h-2V7h2v10zm4 0h-2v-4h2v4z\"/>\n",
              "    </g>\n",
              "</svg>\n",
              "  </button>\n",
              "\n",
              "<style>\n",
              "  .colab-df-quickchart {\n",
              "      --bg-color: #E8F0FE;\n",
              "      --fill-color: #1967D2;\n",
              "      --hover-bg-color: #E2EBFA;\n",
              "      --hover-fill-color: #174EA6;\n",
              "      --disabled-fill-color: #AAA;\n",
              "      --disabled-bg-color: #DDD;\n",
              "  }\n",
              "\n",
              "  [theme=dark] .colab-df-quickchart {\n",
              "      --bg-color: #3B4455;\n",
              "      --fill-color: #D2E3FC;\n",
              "      --hover-bg-color: #434B5C;\n",
              "      --hover-fill-color: #FFFFFF;\n",
              "      --disabled-bg-color: #3B4455;\n",
              "      --disabled-fill-color: #666;\n",
              "  }\n",
              "\n",
              "  .colab-df-quickchart {\n",
              "    background-color: var(--bg-color);\n",
              "    border: none;\n",
              "    border-radius: 50%;\n",
              "    cursor: pointer;\n",
              "    display: none;\n",
              "    fill: var(--fill-color);\n",
              "    height: 32px;\n",
              "    padding: 0;\n",
              "    width: 32px;\n",
              "  }\n",
              "\n",
              "  .colab-df-quickchart:hover {\n",
              "    background-color: var(--hover-bg-color);\n",
              "    box-shadow: 0 1px 2px rgba(60, 64, 67, 0.3), 0 1px 3px 1px rgba(60, 64, 67, 0.15);\n",
              "    fill: var(--button-hover-fill-color);\n",
              "  }\n",
              "\n",
              "  .colab-df-quickchart-complete:disabled,\n",
              "  .colab-df-quickchart-complete:disabled:hover {\n",
              "    background-color: var(--disabled-bg-color);\n",
              "    fill: var(--disabled-fill-color);\n",
              "    box-shadow: none;\n",
              "  }\n",
              "\n",
              "  .colab-df-spinner {\n",
              "    border: 2px solid var(--fill-color);\n",
              "    border-color: transparent;\n",
              "    border-bottom-color: var(--fill-color);\n",
              "    animation:\n",
              "      spin 1s steps(1) infinite;\n",
              "  }\n",
              "\n",
              "  @keyframes spin {\n",
              "    0% {\n",
              "      border-color: transparent;\n",
              "      border-bottom-color: var(--fill-color);\n",
              "      border-left-color: var(--fill-color);\n",
              "    }\n",
              "    20% {\n",
              "      border-color: transparent;\n",
              "      border-left-color: var(--fill-color);\n",
              "      border-top-color: var(--fill-color);\n",
              "    }\n",
              "    30% {\n",
              "      border-color: transparent;\n",
              "      border-left-color: var(--fill-color);\n",
              "      border-top-color: var(--fill-color);\n",
              "      border-right-color: var(--fill-color);\n",
              "    }\n",
              "    40% {\n",
              "      border-color: transparent;\n",
              "      border-right-color: var(--fill-color);\n",
              "      border-top-color: var(--fill-color);\n",
              "    }\n",
              "    60% {\n",
              "      border-color: transparent;\n",
              "      border-right-color: var(--fill-color);\n",
              "    }\n",
              "    80% {\n",
              "      border-color: transparent;\n",
              "      border-right-color: var(--fill-color);\n",
              "      border-bottom-color: var(--fill-color);\n",
              "    }\n",
              "    90% {\n",
              "      border-color: transparent;\n",
              "      border-bottom-color: var(--fill-color);\n",
              "    }\n",
              "  }\n",
              "</style>\n",
              "\n",
              "  <script>\n",
              "    async function quickchart(key) {\n",
              "      const quickchartButtonEl =\n",
              "        document.querySelector('#' + key + ' button');\n",
              "      quickchartButtonEl.disabled = true;  // To prevent multiple clicks.\n",
              "      quickchartButtonEl.classList.add('colab-df-spinner');\n",
              "      try {\n",
              "        const charts = await google.colab.kernel.invokeFunction(\n",
              "            'suggestCharts', [key], {});\n",
              "      } catch (error) {\n",
              "        console.error('Error during call to suggestCharts:', error);\n",
              "      }\n",
              "      quickchartButtonEl.classList.remove('colab-df-spinner');\n",
              "      quickchartButtonEl.classList.add('colab-df-quickchart-complete');\n",
              "    }\n",
              "    (() => {\n",
              "      let quickchartButtonEl =\n",
              "        document.querySelector('#df-669f2b21-93d1-4a89-998c-be93aafee87b button');\n",
              "      quickchartButtonEl.style.display =\n",
              "        google.colab.kernel.accessAllowed ? 'block' : 'none';\n",
              "    })();\n",
              "  </script>\n",
              "</div>\n",
              "\n",
              "    </div>\n",
              "  </div>\n"
            ],
            "application/vnd.google.colaboratory.intrinsic+json": {
              "type": "dataframe",
              "variable_name": "df",
              "summary": "{\n  \"name\": \"df\",\n  \"rows\": 768,\n  \"fields\": [\n    {\n      \"column\": \"Number of times pregnant\",\n      \"properties\": {\n        \"dtype\": \"number\",\n        \"std\": 3,\n        \"min\": 0,\n        \"max\": 17,\n        \"num_unique_values\": 17,\n        \"samples\": [\n          6,\n          1,\n          3\n        ],\n        \"semantic_type\": \"\",\n        \"description\": \"\"\n      }\n    },\n    {\n      \"column\": \"Plasma glucose concentration a 2 hours in an oral glucose tolerance test\",\n      \"properties\": {\n        \"dtype\": \"number\",\n        \"std\": 31,\n        \"min\": 0,\n        \"max\": 199,\n        \"num_unique_values\": 136,\n        \"samples\": [\n          151,\n          101,\n          112\n        ],\n        \"semantic_type\": \"\",\n        \"description\": \"\"\n      }\n    },\n    {\n      \"column\": \"Diastolic blood pressure (mm Hg)\",\n      \"properties\": {\n        \"dtype\": \"number\",\n        \"std\": 19,\n        \"min\": 0,\n        \"max\": 122,\n        \"num_unique_values\": 47,\n        \"samples\": [\n          86,\n          46,\n          85\n        ],\n        \"semantic_type\": \"\",\n        \"description\": \"\"\n      }\n    },\n    {\n      \"column\": \"Triceps skinfold thickness (mm)\",\n      \"properties\": {\n        \"dtype\": \"number\",\n        \"std\": 15,\n        \"min\": 0,\n        \"max\": 99,\n        \"num_unique_values\": 51,\n        \"samples\": [\n          7,\n          12,\n          48\n        ],\n        \"semantic_type\": \"\",\n        \"description\": \"\"\n      }\n    },\n    {\n      \"column\": \"2-Hour serum insulin (mu U/ml)\",\n      \"properties\": {\n        \"dtype\": \"number\",\n        \"std\": 115,\n        \"min\": 0,\n        \"max\": 846,\n        \"num_unique_values\": 186,\n        \"samples\": [\n          52,\n          41,\n          183\n        ],\n        \"semantic_type\": \"\",\n        \"description\": \"\"\n      }\n    },\n    {\n      \"column\": \"Body mass index (weight in kg/(height in m)^2)\",\n      \"properties\": {\n        \"dtype\": \"number\",\n        \"std\": 7.884160320375446,\n        \"min\": 0.0,\n        \"max\": 67.1,\n        \"num_unique_values\": 248,\n        \"samples\": [\n          19.9,\n          31.0,\n          38.1\n        ],\n        \"semantic_type\": \"\",\n        \"description\": \"\"\n      }\n    },\n    {\n      \"column\": \"Diabetes pedigree function\",\n      \"properties\": {\n        \"dtype\": \"number\",\n        \"std\": 0.3313285950127749,\n        \"min\": 0.078,\n        \"max\": 2.42,\n        \"num_unique_values\": 517,\n        \"samples\": [\n          1.731,\n          0.426,\n          0.138\n        ],\n        \"semantic_type\": \"\",\n        \"description\": \"\"\n      }\n    },\n    {\n      \"column\": \"Age (years)\",\n      \"properties\": {\n        \"dtype\": \"number\",\n        \"std\": 11,\n        \"min\": 21,\n        \"max\": 81,\n        \"num_unique_values\": 52,\n        \"samples\": [\n          60,\n          47,\n          72\n        ],\n        \"semantic_type\": \"\",\n        \"description\": \"\"\n      }\n    },\n    {\n      \"column\": \"Class variable (0 or 1)\",\n      \"properties\": {\n        \"dtype\": \"number\",\n        \"std\": 0,\n        \"min\": 0,\n        \"max\": 1,\n        \"num_unique_values\": 2,\n        \"samples\": [\n          0,\n          1\n        ],\n        \"semantic_type\": \"\",\n        \"description\": \"\"\n      }\n    }\n  ]\n}"
            }
          },
          "metadata": {},
          "execution_count": 306
        }
      ],
      "source": [
        "file_path = \"/content/drive/MyDrive/machinelearning/vize/veri-seti.txt\"\n",
        "\n",
        "# pandas kullanarak veri setini oku\n",
        "df = pd.read_csv(file_path, header=None, sep='\\t')\n",
        "# Sütun adları listesi\n",
        "columns_list = [\n",
        "    \"Number of times pregnant\",\n",
        "    \"Plasma glucose concentration a 2 hours in an oral glucose tolerance test\",\n",
        "    \"Diastolic blood pressure (mm Hg)\",\n",
        "    \"Triceps skinfold thickness (mm)\",\n",
        "    \"2-Hour serum insulin (mu U/ml)\",\n",
        "    \"Body mass index (weight in kg/(height in m)^2)\",\n",
        "    \"Diabetes pedigree function\",\n",
        "    \"Age (years)\",\n",
        "    \"Class variable (0 or 1)\"\n",
        "]\n",
        "\n",
        "# Sütun adlarını değiştir\n",
        "df.columns = columns_list\n",
        "df.head()"
      ]
    },
    {
      "cell_type": "code",
      "source": [
        "missing_value = df.isnull().sum()\n",
        "print(missing_value)"
      ],
      "metadata": {
        "colab": {
          "base_uri": "https://localhost:8080/"
        },
        "id": "DfuymNWqjtds",
        "outputId": "87be0b10-23c2-4a0b-f2ae-1328e53d8ea4"
      },
      "execution_count": null,
      "outputs": [
        {
          "output_type": "stream",
          "name": "stdout",
          "text": [
            "Number of times pregnant                                                    0\n",
            "Plasma glucose concentration a 2 hours in an oral glucose tolerance test    0\n",
            "Diastolic blood pressure (mm Hg)                                            0\n",
            "Triceps skinfold thickness (mm)                                             0\n",
            "2-Hour serum insulin (mu U/ml)                                              0\n",
            "Body mass index (weight in kg/(height in m)^2)                              0\n",
            "Diabetes pedigree function                                                  0\n",
            "Age (years)                                                                 0\n",
            "Class variable (0 or 1)                                                     0\n",
            "dtype: int64\n"
          ]
        }
      ]
    },
    {
      "cell_type": "markdown",
      "source": [
        "veri analizinin gerçekliğini korumak ve veri setinin tamamını temsil etmek için aykısı değerler silinmemiştir."
      ],
      "metadata": {
        "id": "bZjbs_B8lPi-"
      }
    },
    {
      "cell_type": "markdown",
      "source": [
        "# **Min-Max Normalizasyonu**"
      ],
      "metadata": {
        "id": "aSikIzO5NtBV"
      }
    },
    {
      "cell_type": "markdown",
      "source": [
        "Min-max scale kullanmamın sebebi ise lineer yapıyı bozmamak için yani, min-max ölçekleme işleminin verilerin orijinal lineer ilişkilerini değiştirmeyeceğini ifade eder.Veriler arasındaki oranlar ve uzaklıklar ölçekleme işleminden sonra da korunur.Min-max scaling (minimum-maksimum ölçekleme) verileri belirli bir aralıkta (genellikle 0 ile 1 arasında) lineer olarak dönüştürür."
      ],
      "metadata": {
        "id": "mqdEOCHAl2W1"
      }
    },
    {
      "cell_type": "code",
      "source": [
        "scaler = MinMaxScaler()\n",
        "normalized_data = scaler.fit_transform(df)\n",
        "\n",
        "# Normalized veriyi DataFrame'e çevir\n",
        "df_normalized = pd.DataFrame(normalized_data, columns=df.columns)\n",
        "\n",
        "df_normalized.head()"
      ],
      "metadata": {
        "colab": {
          "base_uri": "https://localhost:8080/",
          "height": 241
        },
        "id": "ZjU7EakSNc0D",
        "outputId": "3e4fd159-8031-4375-a212-588fd57967f3"
      },
      "execution_count": null,
      "outputs": [
        {
          "output_type": "execute_result",
          "data": {
            "text/plain": [
              "   Number of times pregnant  \\\n",
              "0                  0.352941   \n",
              "1                  0.058824   \n",
              "2                  0.470588   \n",
              "3                  0.058824   \n",
              "4                  0.000000   \n",
              "\n",
              "   Plasma glucose concentration a 2 hours in an oral glucose tolerance test  \\\n",
              "0                                           0.743719                          \n",
              "1                                           0.427136                          \n",
              "2                                           0.919598                          \n",
              "3                                           0.447236                          \n",
              "4                                           0.688442                          \n",
              "\n",
              "   Diastolic blood pressure (mm Hg)  Triceps skinfold thickness (mm)  \\\n",
              "0                          0.590164                         0.353535   \n",
              "1                          0.540984                         0.292929   \n",
              "2                          0.524590                         0.000000   \n",
              "3                          0.540984                         0.232323   \n",
              "4                          0.327869                         0.353535   \n",
              "\n",
              "   2-Hour serum insulin (mu U/ml)  \\\n",
              "0                        0.000000   \n",
              "1                        0.000000   \n",
              "2                        0.000000   \n",
              "3                        0.111111   \n",
              "4                        0.198582   \n",
              "\n",
              "   Body mass index (weight in kg/(height in m)^2)  Diabetes pedigree function  \\\n",
              "0                                        0.500745                    0.234415   \n",
              "1                                        0.396423                    0.116567   \n",
              "2                                        0.347243                    0.253629   \n",
              "3                                        0.418778                    0.038002   \n",
              "4                                        0.642325                    0.943638   \n",
              "\n",
              "   Age (years)  Class variable (0 or 1)  \n",
              "0     0.483333                      1.0  \n",
              "1     0.166667                      0.0  \n",
              "2     0.183333                      1.0  \n",
              "3     0.000000                      0.0  \n",
              "4     0.200000                      1.0  "
            ],
            "text/html": [
              "\n",
              "  <div id=\"df-832ffd71-a62e-41a9-a9c1-0a4bc8395b48\" class=\"colab-df-container\">\n",
              "    <div>\n",
              "<style scoped>\n",
              "    .dataframe tbody tr th:only-of-type {\n",
              "        vertical-align: middle;\n",
              "    }\n",
              "\n",
              "    .dataframe tbody tr th {\n",
              "        vertical-align: top;\n",
              "    }\n",
              "\n",
              "    .dataframe thead th {\n",
              "        text-align: right;\n",
              "    }\n",
              "</style>\n",
              "<table border=\"1\" class=\"dataframe\">\n",
              "  <thead>\n",
              "    <tr style=\"text-align: right;\">\n",
              "      <th></th>\n",
              "      <th>Number of times pregnant</th>\n",
              "      <th>Plasma glucose concentration a 2 hours in an oral glucose tolerance test</th>\n",
              "      <th>Diastolic blood pressure (mm Hg)</th>\n",
              "      <th>Triceps skinfold thickness (mm)</th>\n",
              "      <th>2-Hour serum insulin (mu U/ml)</th>\n",
              "      <th>Body mass index (weight in kg/(height in m)^2)</th>\n",
              "      <th>Diabetes pedigree function</th>\n",
              "      <th>Age (years)</th>\n",
              "      <th>Class variable (0 or 1)</th>\n",
              "    </tr>\n",
              "  </thead>\n",
              "  <tbody>\n",
              "    <tr>\n",
              "      <th>0</th>\n",
              "      <td>0.352941</td>\n",
              "      <td>0.743719</td>\n",
              "      <td>0.590164</td>\n",
              "      <td>0.353535</td>\n",
              "      <td>0.000000</td>\n",
              "      <td>0.500745</td>\n",
              "      <td>0.234415</td>\n",
              "      <td>0.483333</td>\n",
              "      <td>1.0</td>\n",
              "    </tr>\n",
              "    <tr>\n",
              "      <th>1</th>\n",
              "      <td>0.058824</td>\n",
              "      <td>0.427136</td>\n",
              "      <td>0.540984</td>\n",
              "      <td>0.292929</td>\n",
              "      <td>0.000000</td>\n",
              "      <td>0.396423</td>\n",
              "      <td>0.116567</td>\n",
              "      <td>0.166667</td>\n",
              "      <td>0.0</td>\n",
              "    </tr>\n",
              "    <tr>\n",
              "      <th>2</th>\n",
              "      <td>0.470588</td>\n",
              "      <td>0.919598</td>\n",
              "      <td>0.524590</td>\n",
              "      <td>0.000000</td>\n",
              "      <td>0.000000</td>\n",
              "      <td>0.347243</td>\n",
              "      <td>0.253629</td>\n",
              "      <td>0.183333</td>\n",
              "      <td>1.0</td>\n",
              "    </tr>\n",
              "    <tr>\n",
              "      <th>3</th>\n",
              "      <td>0.058824</td>\n",
              "      <td>0.447236</td>\n",
              "      <td>0.540984</td>\n",
              "      <td>0.232323</td>\n",
              "      <td>0.111111</td>\n",
              "      <td>0.418778</td>\n",
              "      <td>0.038002</td>\n",
              "      <td>0.000000</td>\n",
              "      <td>0.0</td>\n",
              "    </tr>\n",
              "    <tr>\n",
              "      <th>4</th>\n",
              "      <td>0.000000</td>\n",
              "      <td>0.688442</td>\n",
              "      <td>0.327869</td>\n",
              "      <td>0.353535</td>\n",
              "      <td>0.198582</td>\n",
              "      <td>0.642325</td>\n",
              "      <td>0.943638</td>\n",
              "      <td>0.200000</td>\n",
              "      <td>1.0</td>\n",
              "    </tr>\n",
              "  </tbody>\n",
              "</table>\n",
              "</div>\n",
              "    <div class=\"colab-df-buttons\">\n",
              "\n",
              "  <div class=\"colab-df-container\">\n",
              "    <button class=\"colab-df-convert\" onclick=\"convertToInteractive('df-832ffd71-a62e-41a9-a9c1-0a4bc8395b48')\"\n",
              "            title=\"Convert this dataframe to an interactive table.\"\n",
              "            style=\"display:none;\">\n",
              "\n",
              "  <svg xmlns=\"http://www.w3.org/2000/svg\" height=\"24px\" viewBox=\"0 -960 960 960\">\n",
              "    <path d=\"M120-120v-720h720v720H120Zm60-500h600v-160H180v160Zm220 220h160v-160H400v160Zm0 220h160v-160H400v160ZM180-400h160v-160H180v160Zm440 0h160v-160H620v160ZM180-180h160v-160H180v160Zm440 0h160v-160H620v160Z\"/>\n",
              "  </svg>\n",
              "    </button>\n",
              "\n",
              "  <style>\n",
              "    .colab-df-container {\n",
              "      display:flex;\n",
              "      gap: 12px;\n",
              "    }\n",
              "\n",
              "    .colab-df-convert {\n",
              "      background-color: #E8F0FE;\n",
              "      border: none;\n",
              "      border-radius: 50%;\n",
              "      cursor: pointer;\n",
              "      display: none;\n",
              "      fill: #1967D2;\n",
              "      height: 32px;\n",
              "      padding: 0 0 0 0;\n",
              "      width: 32px;\n",
              "    }\n",
              "\n",
              "    .colab-df-convert:hover {\n",
              "      background-color: #E2EBFA;\n",
              "      box-shadow: 0px 1px 2px rgba(60, 64, 67, 0.3), 0px 1px 3px 1px rgba(60, 64, 67, 0.15);\n",
              "      fill: #174EA6;\n",
              "    }\n",
              "\n",
              "    .colab-df-buttons div {\n",
              "      margin-bottom: 4px;\n",
              "    }\n",
              "\n",
              "    [theme=dark] .colab-df-convert {\n",
              "      background-color: #3B4455;\n",
              "      fill: #D2E3FC;\n",
              "    }\n",
              "\n",
              "    [theme=dark] .colab-df-convert:hover {\n",
              "      background-color: #434B5C;\n",
              "      box-shadow: 0px 1px 3px 1px rgba(0, 0, 0, 0.15);\n",
              "      filter: drop-shadow(0px 1px 2px rgba(0, 0, 0, 0.3));\n",
              "      fill: #FFFFFF;\n",
              "    }\n",
              "  </style>\n",
              "\n",
              "    <script>\n",
              "      const buttonEl =\n",
              "        document.querySelector('#df-832ffd71-a62e-41a9-a9c1-0a4bc8395b48 button.colab-df-convert');\n",
              "      buttonEl.style.display =\n",
              "        google.colab.kernel.accessAllowed ? 'block' : 'none';\n",
              "\n",
              "      async function convertToInteractive(key) {\n",
              "        const element = document.querySelector('#df-832ffd71-a62e-41a9-a9c1-0a4bc8395b48');\n",
              "        const dataTable =\n",
              "          await google.colab.kernel.invokeFunction('convertToInteractive',\n",
              "                                                    [key], {});\n",
              "        if (!dataTable) return;\n",
              "\n",
              "        const docLinkHtml = 'Like what you see? Visit the ' +\n",
              "          '<a target=\"_blank\" href=https://colab.research.google.com/notebooks/data_table.ipynb>data table notebook</a>'\n",
              "          + ' to learn more about interactive tables.';\n",
              "        element.innerHTML = '';\n",
              "        dataTable['output_type'] = 'display_data';\n",
              "        await google.colab.output.renderOutput(dataTable, element);\n",
              "        const docLink = document.createElement('div');\n",
              "        docLink.innerHTML = docLinkHtml;\n",
              "        element.appendChild(docLink);\n",
              "      }\n",
              "    </script>\n",
              "  </div>\n",
              "\n",
              "\n",
              "<div id=\"df-58babd41-81f5-4753-8dee-4c7c1d227547\">\n",
              "  <button class=\"colab-df-quickchart\" onclick=\"quickchart('df-58babd41-81f5-4753-8dee-4c7c1d227547')\"\n",
              "            title=\"Suggest charts\"\n",
              "            style=\"display:none;\">\n",
              "\n",
              "<svg xmlns=\"http://www.w3.org/2000/svg\" height=\"24px\"viewBox=\"0 0 24 24\"\n",
              "     width=\"24px\">\n",
              "    <g>\n",
              "        <path d=\"M19 3H5c-1.1 0-2 .9-2 2v14c0 1.1.9 2 2 2h14c1.1 0 2-.9 2-2V5c0-1.1-.9-2-2-2zM9 17H7v-7h2v7zm4 0h-2V7h2v10zm4 0h-2v-4h2v4z\"/>\n",
              "    </g>\n",
              "</svg>\n",
              "  </button>\n",
              "\n",
              "<style>\n",
              "  .colab-df-quickchart {\n",
              "      --bg-color: #E8F0FE;\n",
              "      --fill-color: #1967D2;\n",
              "      --hover-bg-color: #E2EBFA;\n",
              "      --hover-fill-color: #174EA6;\n",
              "      --disabled-fill-color: #AAA;\n",
              "      --disabled-bg-color: #DDD;\n",
              "  }\n",
              "\n",
              "  [theme=dark] .colab-df-quickchart {\n",
              "      --bg-color: #3B4455;\n",
              "      --fill-color: #D2E3FC;\n",
              "      --hover-bg-color: #434B5C;\n",
              "      --hover-fill-color: #FFFFFF;\n",
              "      --disabled-bg-color: #3B4455;\n",
              "      --disabled-fill-color: #666;\n",
              "  }\n",
              "\n",
              "  .colab-df-quickchart {\n",
              "    background-color: var(--bg-color);\n",
              "    border: none;\n",
              "    border-radius: 50%;\n",
              "    cursor: pointer;\n",
              "    display: none;\n",
              "    fill: var(--fill-color);\n",
              "    height: 32px;\n",
              "    padding: 0;\n",
              "    width: 32px;\n",
              "  }\n",
              "\n",
              "  .colab-df-quickchart:hover {\n",
              "    background-color: var(--hover-bg-color);\n",
              "    box-shadow: 0 1px 2px rgba(60, 64, 67, 0.3), 0 1px 3px 1px rgba(60, 64, 67, 0.15);\n",
              "    fill: var(--button-hover-fill-color);\n",
              "  }\n",
              "\n",
              "  .colab-df-quickchart-complete:disabled,\n",
              "  .colab-df-quickchart-complete:disabled:hover {\n",
              "    background-color: var(--disabled-bg-color);\n",
              "    fill: var(--disabled-fill-color);\n",
              "    box-shadow: none;\n",
              "  }\n",
              "\n",
              "  .colab-df-spinner {\n",
              "    border: 2px solid var(--fill-color);\n",
              "    border-color: transparent;\n",
              "    border-bottom-color: var(--fill-color);\n",
              "    animation:\n",
              "      spin 1s steps(1) infinite;\n",
              "  }\n",
              "\n",
              "  @keyframes spin {\n",
              "    0% {\n",
              "      border-color: transparent;\n",
              "      border-bottom-color: var(--fill-color);\n",
              "      border-left-color: var(--fill-color);\n",
              "    }\n",
              "    20% {\n",
              "      border-color: transparent;\n",
              "      border-left-color: var(--fill-color);\n",
              "      border-top-color: var(--fill-color);\n",
              "    }\n",
              "    30% {\n",
              "      border-color: transparent;\n",
              "      border-left-color: var(--fill-color);\n",
              "      border-top-color: var(--fill-color);\n",
              "      border-right-color: var(--fill-color);\n",
              "    }\n",
              "    40% {\n",
              "      border-color: transparent;\n",
              "      border-right-color: var(--fill-color);\n",
              "      border-top-color: var(--fill-color);\n",
              "    }\n",
              "    60% {\n",
              "      border-color: transparent;\n",
              "      border-right-color: var(--fill-color);\n",
              "    }\n",
              "    80% {\n",
              "      border-color: transparent;\n",
              "      border-right-color: var(--fill-color);\n",
              "      border-bottom-color: var(--fill-color);\n",
              "    }\n",
              "    90% {\n",
              "      border-color: transparent;\n",
              "      border-bottom-color: var(--fill-color);\n",
              "    }\n",
              "  }\n",
              "</style>\n",
              "\n",
              "  <script>\n",
              "    async function quickchart(key) {\n",
              "      const quickchartButtonEl =\n",
              "        document.querySelector('#' + key + ' button');\n",
              "      quickchartButtonEl.disabled = true;  // To prevent multiple clicks.\n",
              "      quickchartButtonEl.classList.add('colab-df-spinner');\n",
              "      try {\n",
              "        const charts = await google.colab.kernel.invokeFunction(\n",
              "            'suggestCharts', [key], {});\n",
              "      } catch (error) {\n",
              "        console.error('Error during call to suggestCharts:', error);\n",
              "      }\n",
              "      quickchartButtonEl.classList.remove('colab-df-spinner');\n",
              "      quickchartButtonEl.classList.add('colab-df-quickchart-complete');\n",
              "    }\n",
              "    (() => {\n",
              "      let quickchartButtonEl =\n",
              "        document.querySelector('#df-58babd41-81f5-4753-8dee-4c7c1d227547 button');\n",
              "      quickchartButtonEl.style.display =\n",
              "        google.colab.kernel.accessAllowed ? 'block' : 'none';\n",
              "    })();\n",
              "  </script>\n",
              "</div>\n",
              "\n",
              "    </div>\n",
              "  </div>\n"
            ],
            "application/vnd.google.colaboratory.intrinsic+json": {
              "type": "dataframe",
              "variable_name": "df_normalized",
              "summary": "{\n  \"name\": \"df_normalized\",\n  \"rows\": 768,\n  \"fields\": [\n    {\n      \"column\": \"Number of times pregnant\",\n      \"properties\": {\n        \"dtype\": \"number\",\n        \"std\": 0.19821047427640412,\n        \"min\": 0.0,\n        \"max\": 1.0,\n        \"num_unique_values\": 17,\n        \"samples\": [\n          0.3529411764705882,\n          0.058823529411764705,\n          0.1764705882352941\n        ],\n        \"semantic_type\": \"\",\n        \"description\": \"\"\n      }\n    },\n    {\n      \"column\": \"Plasma glucose concentration a 2 hours in an oral glucose tolerance test\",\n      \"properties\": {\n        \"dtype\": \"number\",\n        \"std\": 0.1606664230911368,\n        \"min\": 0.0,\n        \"max\": 1.0,\n        \"num_unique_values\": 136,\n        \"samples\": [\n          0.7587939698492463,\n          0.507537688442211,\n          0.5628140703517588\n        ],\n        \"semantic_type\": \"\",\n        \"description\": \"\"\n      }\n    },\n    {\n      \"column\": \"Diastolic blood pressure (mm Hg)\",\n      \"properties\": {\n        \"dtype\": \"number\",\n        \"std\": 0.1586541571364326,\n        \"min\": 0.0,\n        \"max\": 1.0,\n        \"num_unique_values\": 47,\n        \"samples\": [\n          0.7049180327868853,\n          0.3770491803278689,\n          0.6967213114754098\n        ],\n        \"semantic_type\": \"\",\n        \"description\": \"\"\n      }\n    },\n    {\n      \"column\": \"Triceps skinfold thickness (mm)\",\n      \"properties\": {\n        \"dtype\": \"number\",\n        \"std\": 0.16113351078512766,\n        \"min\": 0.0,\n        \"max\": 1.0,\n        \"num_unique_values\": 51,\n        \"samples\": [\n          0.07070707070707072,\n          0.12121212121212122,\n          0.48484848484848486\n        ],\n        \"semantic_type\": \"\",\n        \"description\": \"\"\n      }\n    },\n    {\n      \"column\": \"2-Hour serum insulin (mu U/ml)\",\n      \"properties\": {\n        \"dtype\": \"number\",\n        \"std\": 0.13622222500158174,\n        \"min\": 0.0,\n        \"max\": 1.0,\n        \"num_unique_values\": 186,\n        \"samples\": [\n          0.061465721040189124,\n          0.04846335697399527,\n          0.21631205673758866\n        ],\n        \"semantic_type\": \"\",\n        \"description\": \"\"\n      }\n    },\n    {\n      \"column\": \"Body mass index (weight in kg/(height in m)^2)\",\n      \"properties\": {\n        \"dtype\": \"number\",\n        \"std\": 0.11749866349292767,\n        \"min\": 0.0,\n        \"max\": 1.0,\n        \"num_unique_values\": 248,\n        \"samples\": [\n          0.2965722801788376,\n          0.4619970193740686,\n          0.5678092399403876\n        ],\n        \"semantic_type\": \"\",\n        \"description\": \"\"\n      }\n    },\n    {\n      \"column\": \"Diabetes pedigree function\",\n      \"properties\": {\n        \"dtype\": \"number\",\n        \"std\": 0.1414725000054547,\n        \"min\": 0.0,\n        \"max\": 0.9999999999999998,\n        \"num_unique_values\": 517,\n        \"samples\": [\n          0.7058070025619129,\n          0.1485909479077711,\n          0.025619128949615717\n        ],\n        \"semantic_type\": \"\",\n        \"description\": \"\"\n      }\n    },\n    {\n      \"column\": \"Age (years)\",\n      \"properties\": {\n        \"dtype\": \"number\",\n        \"std\": 0.19600385901131143,\n        \"min\": 0.0,\n        \"max\": 1.0,\n        \"num_unique_values\": 52,\n        \"samples\": [\n          0.65,\n          0.43333333333333335,\n          0.85\n        ],\n        \"semantic_type\": \"\",\n        \"description\": \"\"\n      }\n    },\n    {\n      \"column\": \"Class variable (0 or 1)\",\n      \"properties\": {\n        \"dtype\": \"number\",\n        \"std\": 0.47695137724279896,\n        \"min\": 0.0,\n        \"max\": 1.0,\n        \"num_unique_values\": 2,\n        \"samples\": [\n          0.0,\n          1.0\n        ],\n        \"semantic_type\": \"\",\n        \"description\": \"\"\n      }\n    }\n  ]\n}"
            }
          },
          "metadata": {},
          "execution_count": 308
        }
      ]
    },
    {
      "cell_type": "markdown",
      "source": [
        "# **PCA ve LDA algoritmaları**"
      ],
      "metadata": {
        "id": "b7xy99O5RdVh"
      }
    },
    {
      "cell_type": "code",
      "source": [
        "# PCA modelini oluştur ve uygula\n",
        "pca = PCA(n_components=2)  # İki öz değeri seçiyoruz\n",
        "pca_data = pca.fit_transform(df_normalized)\n",
        "df_pca = pd.DataFrame(data=pca_data, columns=['PC1', 'PC2'])\n",
        "print(\"PCA Sonuçları:\")\n",
        "print(df_pca.head())"
      ],
      "metadata": {
        "colab": {
          "base_uri": "https://localhost:8080/"
        },
        "id": "7rNyn6RwN88s",
        "outputId": "d2fccce9-43bc-4fa6-c4bf-5b1c889164d7"
      },
      "execution_count": null,
      "outputs": [
        {
          "output_type": "stream",
          "name": "stdout",
          "text": [
            "PCA Sonuçları:\n",
            "        PC1       PC2\n",
            "0  0.706994  0.153130\n",
            "1 -0.402711 -0.088188\n",
            "2  0.689631  0.104960\n",
            "3 -0.419790 -0.195420\n",
            "4  0.670742 -0.406714\n"
          ]
        }
      ]
    },
    {
      "cell_type": "code",
      "source": [
        "print(\"PCA Component Ratios:\")\n",
        "print(pca.explained_variance_ratio_)"
      ],
      "metadata": {
        "colab": {
          "base_uri": "https://localhost:8080/"
        },
        "id": "-jU-Nw04RBXo",
        "outputId": "6e575956-f307-4b51-95e9-a6eef47dca08"
      },
      "execution_count": null,
      "outputs": [
        {
          "output_type": "stream",
          "name": "stdout",
          "text": [
            "PCA Component Ratios:\n",
            "[0.55688605 0.13325266]\n"
          ]
        }
      ]
    },
    {
      "cell_type": "markdown",
      "source": [
        " veri setindeki iki bileşenle gerçeklerştirilen PCA ve elde edilen varyans oranları [0.55688605, 0.13325266] tir, ilk bileşen veri setindeki toplam varyansın yaklaşık %55.7'sini açıkladığını ve ikinci bileşenin ise yaklaşık %13.3'ünü açıkladığını gösterir.Daha yüksek oranlara sahip bileşenler, veri setinizde daha fazla varyansı temsil eder ve dolayısıyla daha fazla bilgiyi korur ve modelin performansını arttırır."
      ],
      "metadata": {
        "id": "9MQwkYhtmxON"
      }
    },
    {
      "cell_type": "code",
      "source": [
        "lda = LDA(n_components= 1)\n",
        "X = df.iloc[:, :-1]  # Son sütun hariç tüm sütunlar X'te\n",
        "y = df.iloc[:, -1]   # Son sütun y olarak\n",
        "lda_data = lda.fit_transform(X,y)\n",
        "df_lda = pd.DataFrame(data=lda_data, columns=['LD1'])\n",
        "print(df_lda.head())"
      ],
      "metadata": {
        "colab": {
          "base_uri": "https://localhost:8080/"
        },
        "id": "Rt3BOInlOlMT",
        "outputId": "2d9258c4-1472-4317-fb16-4177a7b21ac5"
      },
      "execution_count": null,
      "outputs": [
        {
          "output_type": "stream",
          "name": "stdout",
          "text": [
            "        LD1\n",
            "0  1.380247\n",
            "1 -1.564524\n",
            "2  1.766185\n",
            "3 -1.690588\n",
            "4  2.207268\n"
          ]
        }
      ]
    },
    {
      "cell_type": "code",
      "source": [
        "print(\"LDA Component Ratios:\")\n",
        "print(lda.explained_variance_ratio_)\n"
      ],
      "metadata": {
        "colab": {
          "base_uri": "https://localhost:8080/"
        },
        "id": "SJLosGgZRGt0",
        "outputId": "638e64f3-906e-4fbc-fbf7-5612a139aa46"
      },
      "execution_count": null,
      "outputs": [
        {
          "output_type": "stream",
          "name": "stdout",
          "text": [
            "LDA Component Ratios:\n",
            "[1.]\n"
          ]
        }
      ]
    },
    {
      "cell_type": "markdown",
      "source": [
        "Bir bileşen oranı 1 ise, bu bileşenin veri setindeki tüm sınıflar arasındaki ayrımı tam olarak ifade ettiği anlamına gelir."
      ],
      "metadata": {
        "id": "LuGpNCsBn4eJ"
      }
    },
    {
      "cell_type": "code",
      "source": [
        "X = df_normalized.drop(columns=['Class variable (0 or 1)'])  # Bağımsız değişkenler\n",
        "y = df_normalized['Class variable (0 or 1)']  # Bağımlı değişken\n",
        "\n",
        "# Veri setini train ve test setlerine ayırma\n",
        "X_train, X_test, y_train, y_test = train_test_split(X, y, test_size=0.3, random_state=42)"
      ],
      "metadata": {
        "id": "d1hQUpUUTgNC"
      },
      "execution_count": null,
      "outputs": []
    },
    {
      "cell_type": "markdown",
      "source": [
        "## Çoklu Doğrusal Regresyon Analizi\n",
        "\n",
        "\n"
      ],
      "metadata": {
        "id": "E9Vk93vOUXTt"
      }
    },
    {
      "cell_type": "code",
      "source": [
        "# Özet istatistikleri kontrol etme\n",
        "print(df.describe())"
      ],
      "metadata": {
        "colab": {
          "base_uri": "https://localhost:8080/"
        },
        "id": "aslsXit4oktN",
        "outputId": "1a6e53f9-d420-4a62-af23-7a588affb4c9"
      },
      "execution_count": null,
      "outputs": [
        {
          "output_type": "stream",
          "name": "stdout",
          "text": [
            "       Number of times pregnant  \\\n",
            "count                768.000000   \n",
            "mean                   3.845052   \n",
            "std                    3.369578   \n",
            "min                    0.000000   \n",
            "25%                    1.000000   \n",
            "50%                    3.000000   \n",
            "75%                    6.000000   \n",
            "max                   17.000000   \n",
            "\n",
            "       Plasma glucose concentration a 2 hours in an oral glucose tolerance test  \\\n",
            "count                                         768.000000                          \n",
            "mean                                          120.894531                          \n",
            "std                                            31.972618                          \n",
            "min                                             0.000000                          \n",
            "25%                                            99.000000                          \n",
            "50%                                           117.000000                          \n",
            "75%                                           140.250000                          \n",
            "max                                           199.000000                          \n",
            "\n",
            "       Diastolic blood pressure (mm Hg)  Triceps skinfold thickness (mm)  \\\n",
            "count                        768.000000                       768.000000   \n",
            "mean                          69.105469                        20.536458   \n",
            "std                           19.355807                        15.952218   \n",
            "min                            0.000000                         0.000000   \n",
            "25%                           62.000000                         0.000000   \n",
            "50%                           72.000000                        23.000000   \n",
            "75%                           80.000000                        32.000000   \n",
            "max                          122.000000                        99.000000   \n",
            "\n",
            "       2-Hour serum insulin (mu U/ml)  \\\n",
            "count                      768.000000   \n",
            "mean                        79.799479   \n",
            "std                        115.244002   \n",
            "min                          0.000000   \n",
            "25%                          0.000000   \n",
            "50%                         30.500000   \n",
            "75%                        127.250000   \n",
            "max                        846.000000   \n",
            "\n",
            "       Body mass index (weight in kg/(height in m)^2)  \\\n",
            "count                                      768.000000   \n",
            "mean                                        31.992578   \n",
            "std                                          7.884160   \n",
            "min                                          0.000000   \n",
            "25%                                         27.300000   \n",
            "50%                                         32.000000   \n",
            "75%                                         36.600000   \n",
            "max                                         67.100000   \n",
            "\n",
            "       Diabetes pedigree function  Age (years)  Class variable (0 or 1)  \n",
            "count                  768.000000   768.000000               768.000000  \n",
            "mean                     0.471876    33.240885                 0.348958  \n",
            "std                      0.331329    11.760232                 0.476951  \n",
            "min                      0.078000    21.000000                 0.000000  \n",
            "25%                      0.243750    24.000000                 0.000000  \n",
            "50%                      0.372500    29.000000                 0.000000  \n",
            "75%                      0.626250    41.000000                 1.000000  \n",
            "max                      2.420000    81.000000                 1.000000  \n"
          ]
        }
      ]
    },
    {
      "cell_type": "markdown",
      "source": [
        "* Class variable (0 or 1) = Kategorik veridir.( Bir aralığa sahip değildir. sadece 1 veya 0 değerini alır.)\n",
        "* Age (years) = Kesikli bir veridir. Belirlenen gözlenme aralığında sadece tam sayıların yer aldığı veri setleridir.\n",
        "* Diabetes pedigree function = Sürekli bir değişkendir. (min=0.07 max=2.42 belirli bir aralıkta değer alırlar ve kesirli bir ölçüm birimine sahiptirler.)\n",
        "* Body mass index (weight in kg/(height in m)^2) = Sürekli bir değişkendir. (min=0.0 max=67.1 belirli bir aralıkta değer alırlar ve kesirli bir ölçüm birimine sahiptirler.)\n",
        "* 2-Hour serum insulin (mu U/ml) = Kesikli bir veridir. Belirlenen gözlenme aralığında sadece tam sayıların yer aldığı veri setleridir.\n",
        "* Triceps skinfold thickness (mm) = Kesikli bir veridir. Belirlenen gözlenme aralığında sadece tam sayıların yer aldığı veri setleridir.\n",
        "* Diastolic blood pressure (mm Hg)) = Kesikli bir veridir. Belirlenen gözlenme aralığında sadece tam sayıların yer aldığı veri setleridir.\n",
        "* Plasma glucose concentration a 2 hours in an oral glucose tolerance test  = Kesikli bir veridir. Belirlenen gözlenme aralığında sadece tam sayıların yer aldığı veri setleridir.\n",
        "* Number of times pregnant = Kesikli bir veridir. Belirlenen gözlenme aralığında sadece tam sayıların yer aldığı veri setleridir."
      ],
      "metadata": {
        "id": "a1IM4lInpwoc"
      }
    },
    {
      "cell_type": "code",
      "source": [
        "# Çoklu Doğrusal Regresyon modelini oluştur ve eğit\n",
        "model_linear = LinearRegression()\n",
        "model_linear.fit(X_train, y_train)\n",
        "\n",
        "# Test veri seti üzerinde tahmin yap\n",
        "y_pred_linear = model_linear.predict(X_test)\n",
        "\n",
        "# Model performansını değerlendir\n",
        "mse_linear = mean_squared_error(y_test, y_pred_linear)\n",
        "r2_linear = r2_score(y_test, y_pred_linear)\n",
        "\n",
        "print(\"Çoklu Doğrusal Regresyon Modeli:\")\n",
        "print(\"MSE:\", mse_linear)\n",
        "print(\"R^2:\", r2_linear)\n",
        "\n"
      ],
      "metadata": {
        "colab": {
          "base_uri": "https://localhost:8080/"
        },
        "id": "24BCc7i_UYui",
        "outputId": "ba4f5cbd-00cd-48f7-ec2d-0278b9ccd388"
      },
      "execution_count": null,
      "outputs": [
        {
          "output_type": "stream",
          "name": "stdout",
          "text": [
            "Çoklu Doğrusal Regresyon Modeli:\n",
            "MSE: 0.17603335005142037\n",
            "R^2: 0.2224076496611056\n"
          ]
        }
      ]
    },
    {
      "cell_type": "markdown",
      "source": [
        "# Multinominal Lojistik Regresyon Analizi"
      ],
      "metadata": {
        "id": "uKj4Ic52Ujri"
      }
    },
    {
      "cell_type": "code",
      "source": [
        "# Multinominal Lojistik Regresyon modelini oluştur ve eğit\n",
        "model_logistic = LogisticRegression(multi_class='multinomial', solver='lbfgs')\n",
        "model_logistic.fit(X_train, y_train)\n",
        "\n",
        "# Test veri seti üzerinde tahmin yap\n",
        "y_pred_logistic = model_logistic.predict(X_test)\n",
        "\n",
        "# Model performansını değerlendir\n",
        "print(\"Multinominal Lojistik Regresyon modeli:\")\n",
        "print(\"Doğruluk Oranı:\", accuracy_score(y_test, y_pred_logistic))\n",
        "print(\"\\nSınıflandırma Raporu:\")\n",
        "print(classification_report(y_test, y_pred_logistic))\n",
        "print(\"\\nConfusion Matrix:\")\n",
        "print(confusion_matrix(y_test, y_pred_logistic))\n",
        "# Sensitivity ve Specificity hesaplama\n",
        "tn, fp, fn, tp = confusion_matrix(y_test, y_pred_logistic).ravel()\n",
        "sensitivity = tp / (tp + fn)\n",
        "specificity = tn / (tn + fp)\n",
        "\n",
        "print(\"Sensitivity (Duyarlılık):\", sensitivity)\n",
        "print(\"Specificity (Özgünlük):\", specificity)\n",
        "\n"
      ],
      "metadata": {
        "colab": {
          "base_uri": "https://localhost:8080/"
        },
        "id": "ANktfdepUjCy",
        "outputId": "37967fa8-b476-4396-fd64-a52f8b4217a7"
      },
      "execution_count": null,
      "outputs": [
        {
          "output_type": "stream",
          "name": "stdout",
          "text": [
            "Multinominal Lojistik Regresyon modeli:\n",
            "Doğruluk Oranı: 0.7359307359307359\n",
            "\n",
            "Sınıflandırma Raporu:\n",
            "              precision    recall  f1-score   support\n",
            "\n",
            "         0.0       0.78      0.82      0.80       151\n",
            "         1.0       0.63      0.57      0.60        80\n",
            "\n",
            "    accuracy                           0.74       231\n",
            "   macro avg       0.71      0.70      0.70       231\n",
            "weighted avg       0.73      0.74      0.73       231\n",
            "\n",
            "\n",
            "Confusion Matrix:\n",
            "[[124  27]\n",
            " [ 34  46]]\n",
            "Sensitivity (Duyarlılık): 0.575\n",
            "Specificity (Özgünlük): 0.8211920529801324\n"
          ]
        }
      ]
    },
    {
      "cell_type": "code",
      "source": [
        "from sklearn.metrics import roc_curve, roc_auc_score\n",
        "import matplotlib.pyplot as plt\n",
        "\n",
        "# ROC eğrisi ve AUC hesaplama\n",
        "probs = model_logistic.predict_proba(X_test)[:, 1]\n",
        "fpr, tpr, thresholds = roc_curve(y_test, probs)\n",
        "auc = roc_auc_score(y_test, probs)\n",
        "\n",
        "# ROC eğrisini çizme\n",
        "plt.figure(figsize=(8, 6))\n",
        "plt.plot(fpr, tpr, label='ROC Curve (AUC = {:.2f})'.format(auc))\n",
        "plt.plot([0, 1], [0, 1], linestyle='--', color='red', label='Random Guessing')\n",
        "plt.xlabel('False Positive Rate')\n",
        "plt.ylabel('True Positive Rate')\n",
        "plt.title('ROC Curve')\n",
        "plt.legend()\n",
        "plt.show()\n",
        "\n",
        "print(\"AUC Score:\", auc)"
      ],
      "metadata": {
        "colab": {
          "base_uri": "https://localhost:8080/",
          "height": 582
        },
        "id": "YOBEXoLHgu0T",
        "outputId": "875d4288-5a2c-47b4-e6fa-597655731545"
      },
      "execution_count": null,
      "outputs": [
        {
          "output_type": "display_data",
          "data": {
            "text/plain": [
              "<Figure size 800x600 with 1 Axes>"
            ],
            "image/png": "[encoded data removed]"
          },
          "metadata": {}
        },
        {
          "output_type": "stream",
          "name": "stdout",
          "text": [
            "AUC Score: 0.7985099337748344\n"
          ]
        }
      ]
    },
    {
      "cell_type": "markdown",
      "source": [
        "# Karar Ağacı Sınıflandırıcı modeli"
      ],
      "metadata": {
        "id": "uIrB_ZU_VOKX"
      }
    },
    {
      "cell_type": "markdown",
      "source": [
        "**1. Karar Ağacı**"
      ],
      "metadata": {
        "id": "fEYyuid6xXs_"
      }
    },
    {
      "cell_type": "code",
      "source": [
        "# Karar Ağacı Sınıflandırıcı modelini oluştur ve eğit\n",
        "model_tree = DecisionTreeClassifier(random_state=50)\n",
        "model_tree.fit(X_train, y_train)\n",
        "\n",
        "# Test veri seti üzerinde tahmin yap\n",
        "y_pred_tree = model_tree.predict(X_test)\n",
        "# Model performansını değerlendir\n",
        "print(\"Karar Ağacı Sınıflandırıcı Modeli:\")\n",
        "print(\"Doğruluk Oranı:\", accuracy_score(y_test, y_pred_tree))\n",
        "print(\"\\nSınıflandırma Raporu:\")\n",
        "print(classification_report(y_test, y_pred_tree))\n",
        "print(\"\\nConfusion Matrix:\")\n",
        "print(confusion_matrix(y_test, y_pred_tree))\n",
        "# Sensitivity ve Specificity hesaplama\n",
        "tn, fp, fn, tp = confusion_matrix(y_test, y_pred_tree).ravel()\n",
        "sensitivity = tp / (tp + fn)\n",
        "specificity = tn / (tn + fp)\n",
        "\n",
        "print(\"Sensitivity (Duyarlılık):\", sensitivity)\n",
        "print(\"Specificity (Özgünlük):\", specificity)"
      ],
      "metadata": {
        "colab": {
          "base_uri": "https://localhost:8080/"
        },
        "id": "hQNjWaDAxWKv",
        "outputId": "b3a3df9b-d787-45db-b68f-22a45a3aa152"
      },
      "execution_count": null,
      "outputs": [
        {
          "output_type": "stream",
          "name": "stdout",
          "text": [
            "Karar Ağacı Sınıflandırıcı Modeli:\n",
            "Doğruluk Oranı: 0.6883116883116883\n",
            "\n",
            "Sınıflandırma Raporu:\n",
            "              precision    recall  f1-score   support\n",
            "\n",
            "         0.0       0.80      0.70      0.74       151\n",
            "         1.0       0.54      0.68      0.60        80\n",
            "\n",
            "    accuracy                           0.69       231\n",
            "   macro avg       0.67      0.69      0.67       231\n",
            "weighted avg       0.71      0.69      0.69       231\n",
            "\n",
            "\n",
            "Confusion Matrix:\n",
            "[[105  46]\n",
            " [ 26  54]]\n",
            "Sensitivity (Duyarlılık): 0.675\n",
            "Specificity (Özgünlük): 0.695364238410596\n"
          ]
        }
      ]
    },
    {
      "cell_type": "code",
      "source": [
        "from sklearn.metrics import roc_curve, roc_auc_score\n",
        "import matplotlib.pyplot as plt\n",
        "\n",
        "# ROC eğrisi ve AUC hesaplama\n",
        "probs = model_tree.predict_proba(X_test)[:, 1]\n",
        "fpr, tpr, thresholds = roc_curve(y_test, probs)\n",
        "auc = roc_auc_score(y_test, probs)\n",
        "\n",
        "# ROC eğrisini çizme\n",
        "plt.figure(figsize=(8, 6))\n",
        "plt.plot(fpr, tpr, label='ROC Curve (AUC = {:.2f})'.format(auc))\n",
        "plt.plot([0, 1], [0, 1], linestyle='--', color='red', label='Random Guessing')\n",
        "plt.xlabel('False Positive Rate')\n",
        "plt.ylabel('True Positive Rate')\n",
        "plt.title('ROC Curve')\n",
        "plt.legend()\n",
        "plt.show()\n",
        "\n",
        "print(\"AUC Score:\", auc)"
      ],
      "metadata": {
        "colab": {
          "base_uri": "https://localhost:8080/",
          "height": 582
        },
        "id": "fWF1d3zHxTEh",
        "outputId": "0823a8e0-7caf-4278-cf6e-4fc3d131b240"
      },
      "execution_count": null,
      "outputs": [
        {
          "output_type": "display_data",
          "data": {
            "text/plain": [
              "<Figure size 800x600 with 1 Axes>"
            ],
            "image/png": "[encoded data removed]"
          },
          "metadata": {}
        },
        {
          "output_type": "stream",
          "name": "stdout",
          "text": [
            "AUC Score: 0.685182119205298\n"
          ]
        }
      ]
    },
    {
      "cell_type": "markdown",
      "source": [
        "2. Karar Ağacı"
      ],
      "metadata": {
        "id": "f2qSfNGaxfFY"
      }
    },
    {
      "cell_type": "code",
      "source": [
        "# Karar Ağacı Sınıflandırıcı modelini oluştur ve eğit\n",
        "model_tree = DecisionTreeClassifier(random_state=12)\n",
        "model_tree.fit(X_train, y_train)\n",
        "\n",
        "# Test veri seti üzerinde tahmin yap\n",
        "y_pred_tree = model_tree.predict(X_test)\n",
        "# Model performansını değerlendir\n",
        "print(\"Karar Ağacı Sınıflandırıcı Modeli:\")\n",
        "print(\"Doğruluk Oranı:\", accuracy_score(y_test, y_pred_tree))\n",
        "print(\"\\nSınıflandırma Raporu:\")\n",
        "print(classification_report(y_test, y_pred_tree))\n",
        "print(\"\\nConfusion Matrix:\")\n",
        "print(confusion_matrix(y_test, y_pred_tree))\n",
        "# Sensitivity ve Specificity hesaplama\n",
        "tn, fp, fn, tp = confusion_matrix(y_test, y_pred_tree).ravel()\n",
        "sensitivity = tp / (tp + fn)\n",
        "specificity = tn / (tn + fp)\n",
        "\n",
        "print(\"Sensitivity (Duyarlılık):\", sensitivity)\n",
        "print(\"Specificity (Özgünlük):\", specificity)"
      ],
      "metadata": {
        "colab": {
          "base_uri": "https://localhost:8080/"
        },
        "id": "5g_scgUnxN1W",
        "outputId": "61c06083-37fe-4ab9-d982-18fa6581bc60"
      },
      "execution_count": null,
      "outputs": [
        {
          "output_type": "stream",
          "name": "stdout",
          "text": [
            "Karar Ağacı Sınıflandırıcı Modeli:\n",
            "Doğruluk Oranı: 0.70995670995671\n",
            "\n",
            "Sınıflandırma Raporu:\n",
            "              precision    recall  f1-score   support\n",
            "\n",
            "         0.0       0.82      0.72      0.76       151\n",
            "         1.0       0.57      0.70      0.63        80\n",
            "\n",
            "    accuracy                           0.71       231\n",
            "   macro avg       0.69      0.71      0.69       231\n",
            "weighted avg       0.73      0.71      0.72       231\n",
            "\n",
            "\n",
            "Confusion Matrix:\n",
            "[[108  43]\n",
            " [ 24  56]]\n",
            "Sensitivity (Duyarlılık): 0.7\n",
            "Specificity (Özgünlük): 0.7152317880794702\n"
          ]
        }
      ]
    },
    {
      "cell_type": "code",
      "source": [
        "from sklearn.metrics import roc_curve, roc_auc_score\n",
        "import matplotlib.pyplot as plt\n",
        "\n",
        "# ROC eğrisi ve AUC hesaplama\n",
        "probs = model_tree.predict_proba(X_test)[:, 1]\n",
        "fpr, tpr, thresholds = roc_curve(y_test, probs)\n",
        "auc = roc_auc_score(y_test, probs)\n",
        "\n",
        "# ROC eğrisini çizme\n",
        "plt.figure(figsize=(8, 6))\n",
        "plt.plot(fpr, tpr, label='ROC Curve (AUC = {:.2f})'.format(auc))\n",
        "plt.plot([0, 1], [0, 1], linestyle='--', color='red', label='Random Guessing')\n",
        "plt.xlabel('False Positive Rate')\n",
        "plt.ylabel('True Positive Rate')\n",
        "plt.title('ROC Curve')\n",
        "plt.legend()\n",
        "plt.show()\n",
        "\n",
        "print(\"AUC Score:\", auc)"
      ],
      "metadata": {
        "colab": {
          "base_uri": "https://localhost:8080/",
          "height": 582
        },
        "id": "kLQx7i6xxQXR",
        "outputId": "97082b32-e6a3-43e7-dfc1-2a2f73af7e31"
      },
      "execution_count": null,
      "outputs": [
        {
          "output_type": "display_data",
          "data": {
            "text/plain": [
              "<Figure size 800x600 with 1 Axes>"
            ],
            "image/png": "[encoded data removed]"
          },
          "metadata": {}
        },
        {
          "output_type": "stream",
          "name": "stdout",
          "text": [
            "AUC Score: 0.707615894039735\n"
          ]
        }
      ]
    },
    {
      "cell_type": "markdown",
      "source": [
        "3. Karar Ağacı"
      ],
      "metadata": {
        "id": "0F_PHHWuxjMH"
      }
    },
    {
      "cell_type": "code",
      "source": [
        "# Karar Ağacı Sınıflandırıcı modelini oluştur ve eğit\n",
        "model_tree = DecisionTreeClassifier(random_state=26)\n",
        "model_tree.fit(X_train, y_train)\n",
        "\n",
        "# Test veri seti üzerinde tahmin yap\n",
        "y_pred_tree = model_tree.predict(X_test)\n",
        "# Model performansını değerlendir\n",
        "print(\"Karar Ağacı Sınıflandırıcı Modeli:\")\n",
        "print(\"Doğruluk Oranı:\", accuracy_score(y_test, y_pred_tree))\n",
        "print(\"\\nSınıflandırma Raporu:\")\n",
        "print(classification_report(y_test, y_pred_tree))\n",
        "print(\"\\nConfusion Matrix:\")\n",
        "print(confusion_matrix(y_test, y_pred_tree))\n",
        "# Sensitivity ve Specificity hesaplama\n",
        "tn, fp, fn, tp = confusion_matrix(y_test, y_pred_tree).ravel()\n",
        "sensitivity = tp / (tp + fn)\n",
        "specificity = tn / (tn + fp)\n",
        "\n",
        "print(\"Sensitivity (Duyarlılık):\", sensitivity)\n",
        "print(\"Specificity (Özgünlük):\", specificity)\n"
      ],
      "metadata": {
        "colab": {
          "base_uri": "https://localhost:8080/"
        },
        "id": "MfifUzgmUv8X",
        "outputId": "fd911b81-6077-4f74-ea16-d972c389da3a"
      },
      "execution_count": null,
      "outputs": [
        {
          "output_type": "stream",
          "name": "stdout",
          "text": [
            "Karar Ağacı Sınıflandırıcı Modeli:\n",
            "Doğruluk Oranı: 0.6926406926406926\n",
            "\n",
            "Sınıflandırma Raporu:\n",
            "              precision    recall  f1-score   support\n",
            "\n",
            "         0.0       0.80      0.71      0.75       151\n",
            "         1.0       0.55      0.66      0.60        80\n",
            "\n",
            "    accuracy                           0.69       231\n",
            "   macro avg       0.67      0.69      0.67       231\n",
            "weighted avg       0.71      0.69      0.70       231\n",
            "\n",
            "\n",
            "Confusion Matrix:\n",
            "[[107  44]\n",
            " [ 27  53]]\n",
            "Sensitivity (Duyarlılık): 0.6625\n",
            "Specificity (Özgünlük): 0.7086092715231788\n"
          ]
        }
      ]
    },
    {
      "cell_type": "code",
      "source": [
        "from sklearn.metrics import roc_curve, roc_auc_score\n",
        "import matplotlib.pyplot as plt\n",
        "\n",
        "# ROC eğrisi ve AUC hesaplama\n",
        "probs = model_tree.predict_proba(X_test)[:, 1]\n",
        "fpr, tpr, thresholds = roc_curve(y_test, probs)\n",
        "auc = roc_auc_score(y_test, probs)\n",
        "\n",
        "# ROC eğrisini çizme\n",
        "plt.figure(figsize=(8, 6))\n",
        "plt.plot(fpr, tpr, label='ROC Curve (AUC = {:.2f})'.format(auc))\n",
        "plt.plot([0, 1], [0, 1], linestyle='--', color='red', label='Random Guessing')\n",
        "plt.xlabel('False Positive Rate')\n",
        "plt.ylabel('True Positive Rate')\n",
        "plt.title('ROC Curve')\n",
        "plt.legend()\n",
        "plt.show()\n",
        "\n",
        "print(\"AUC Score:\", auc)"
      ],
      "metadata": {
        "colab": {
          "base_uri": "https://localhost:8080/",
          "height": 582
        },
        "id": "vQxuRoB2gzVh",
        "outputId": "7c660aeb-3086-470f-e71c-8d6049df5482"
      },
      "execution_count": null,
      "outputs": [
        {
          "output_type": "display_data",
          "data": {
            "text/plain": [
              "<Figure size 800x600 with 1 Axes>"
            ],
            "image/png": "[encoded data removed]"
          },
          "metadata": {}
        },
        {
          "output_type": "stream",
          "name": "stdout",
          "text": [
            "AUC Score: 0.6855546357615895\n"
          ]
        }
      ]
    },
    {
      "cell_type": "markdown",
      "source": [
        "# Naive Bayes Modeli"
      ],
      "metadata": {
        "id": "yMOr9b1XViWd"
      }
    },
    {
      "cell_type": "markdown",
      "source": [
        "\n",
        "Sürekli verilere sahip bir veri setiyle çalışırken, veriler arasındaki bağımsızlığı değerlendirmek için genellikle Pearson korelasyon katsayısını kullanmak en yaygın yaklaşımdır. Pearson korelasyon katsayısı, iki sürekli değişken arasındaki doğrusal ilişkiyi ölçer. Değer aralığı -1 ile +1 arasındadır."
      ],
      "metadata": {
        "id": "ggsLvV2uy6sV"
      }
    },
    {
      "cell_type": "code",
      "source": [
        "# Pearson korelasyon katsayılarını hesaplama\n",
        "correlation_matrix = df.corr()\n",
        "\n",
        "print(\"Pearson Korelasyon Katsayıları:\")\n",
        "print(correlation_matrix)"
      ],
      "metadata": {
        "colab": {
          "base_uri": "https://localhost:8080/"
        },
        "id": "lEDc4D2ezFTs",
        "outputId": "dad650a1-de51-4bf8-8dd9-ccce0057717a"
      },
      "execution_count": null,
      "outputs": [
        {
          "output_type": "stream",
          "name": "stdout",
          "text": [
            "Pearson Korelasyon Katsayıları:\n",
            "                                                    Number of times pregnant  \\\n",
            "Number of times pregnant                                            1.000000   \n",
            "Plasma glucose concentration a 2 hours in an or...                  0.129459   \n",
            "Diastolic blood pressure (mm Hg)                                    0.141282   \n",
            "Triceps skinfold thickness (mm)                                    -0.081672   \n",
            "2-Hour serum insulin (mu U/ml)                                     -0.073535   \n",
            "Body mass index (weight in kg/(height in m)^2)                      0.017683   \n",
            "Diabetes pedigree function                                         -0.033523   \n",
            "Age (years)                                                         0.544341   \n",
            "Class variable (0 or 1)                                             0.221898   \n",
            "\n",
            "                                                    Plasma glucose concentration a 2 hours in an oral glucose tolerance test  \\\n",
            "Number of times pregnant                                                                     0.129459                          \n",
            "Plasma glucose concentration a 2 hours in an or...                                           1.000000                          \n",
            "Diastolic blood pressure (mm Hg)                                                             0.152590                          \n",
            "Triceps skinfold thickness (mm)                                                              0.057328                          \n",
            "2-Hour serum insulin (mu U/ml)                                                               0.331357                          \n",
            "Body mass index (weight in kg/(height in m)^2)                                               0.221071                          \n",
            "Diabetes pedigree function                                                                   0.137337                          \n",
            "Age (years)                                                                                  0.263514                          \n",
            "Class variable (0 or 1)                                                                      0.466581                          \n",
            "\n",
            "                                                    Diastolic blood pressure (mm Hg)  \\\n",
            "Number of times pregnant                                                    0.141282   \n",
            "Plasma glucose concentration a 2 hours in an or...                          0.152590   \n",
            "Diastolic blood pressure (mm Hg)                                            1.000000   \n",
            "Triceps skinfold thickness (mm)                                             0.207371   \n",
            "2-Hour serum insulin (mu U/ml)                                              0.088933   \n",
            "Body mass index (weight in kg/(height in m)^2)                              0.281805   \n",
            "Diabetes pedigree function                                                  0.041265   \n",
            "Age (years)                                                                 0.239528   \n",
            "Class variable (0 or 1)                                                     0.065068   \n",
            "\n",
            "                                                    Triceps skinfold thickness (mm)  \\\n",
            "Number of times pregnant                                                  -0.081672   \n",
            "Plasma glucose concentration a 2 hours in an or...                         0.057328   \n",
            "Diastolic blood pressure (mm Hg)                                           0.207371   \n",
            "Triceps skinfold thickness (mm)                                            1.000000   \n",
            "2-Hour serum insulin (mu U/ml)                                             0.436783   \n",
            "Body mass index (weight in kg/(height in m)^2)                             0.392573   \n",
            "Diabetes pedigree function                                                 0.183928   \n",
            "Age (years)                                                               -0.113970   \n",
            "Class variable (0 or 1)                                                    0.074752   \n",
            "\n",
            "                                                    2-Hour serum insulin (mu U/ml)  \\\n",
            "Number of times pregnant                                                 -0.073535   \n",
            "Plasma glucose concentration a 2 hours in an or...                        0.331357   \n",
            "Diastolic blood pressure (mm Hg)                                          0.088933   \n",
            "Triceps skinfold thickness (mm)                                           0.436783   \n",
            "2-Hour serum insulin (mu U/ml)                                            1.000000   \n",
            "Body mass index (weight in kg/(height in m)^2)                            0.197859   \n",
            "Diabetes pedigree function                                                0.185071   \n",
            "Age (years)                                                              -0.042163   \n",
            "Class variable (0 or 1)                                                   0.130548   \n",
            "\n",
            "                                                    Body mass index (weight in kg/(height in m)^2)  \\\n",
            "Number of times pregnant                                                                  0.017683   \n",
            "Plasma glucose concentration a 2 hours in an or...                                        0.221071   \n",
            "Diastolic blood pressure (mm Hg)                                                          0.281805   \n",
            "Triceps skinfold thickness (mm)                                                           0.392573   \n",
            "2-Hour serum insulin (mu U/ml)                                                            0.197859   \n",
            "Body mass index (weight in kg/(height in m)^2)                                            1.000000   \n",
            "Diabetes pedigree function                                                                0.140647   \n",
            "Age (years)                                                                               0.036242   \n",
            "Class variable (0 or 1)                                                                   0.292695   \n",
            "\n",
            "                                                    Diabetes pedigree function  \\\n",
            "Number of times pregnant                                             -0.033523   \n",
            "Plasma glucose concentration a 2 hours in an or...                    0.137337   \n",
            "Diastolic blood pressure (mm Hg)                                      0.041265   \n",
            "Triceps skinfold thickness (mm)                                       0.183928   \n",
            "2-Hour serum insulin (mu U/ml)                                        0.185071   \n",
            "Body mass index (weight in kg/(height in m)^2)                        0.140647   \n",
            "Diabetes pedigree function                                            1.000000   \n",
            "Age (years)                                                           0.033561   \n",
            "Class variable (0 or 1)                                               0.173844   \n",
            "\n",
            "                                                    Age (years)  \\\n",
            "Number of times pregnant                               0.544341   \n",
            "Plasma glucose concentration a 2 hours in an or...     0.263514   \n",
            "Diastolic blood pressure (mm Hg)                       0.239528   \n",
            "Triceps skinfold thickness (mm)                       -0.113970   \n",
            "2-Hour serum insulin (mu U/ml)                        -0.042163   \n",
            "Body mass index (weight in kg/(height in m)^2)         0.036242   \n",
            "Diabetes pedigree function                             0.033561   \n",
            "Age (years)                                            1.000000   \n",
            "Class variable (0 or 1)                                0.238356   \n",
            "\n",
            "                                                    Class variable (0 or 1)  \n",
            "Number of times pregnant                                           0.221898  \n",
            "Plasma glucose concentration a 2 hours in an or...                 0.466581  \n",
            "Diastolic blood pressure (mm Hg)                                   0.065068  \n",
            "Triceps skinfold thickness (mm)                                    0.074752  \n",
            "2-Hour serum insulin (mu U/ml)                                     0.130548  \n",
            "Body mass index (weight in kg/(height in m)^2)                     0.292695  \n",
            "Diabetes pedigree function                                         0.173844  \n",
            "Age (years)                                                        0.238356  \n",
            "Class variable (0 or 1)                                            1.000000  \n"
          ]
        }
      ]
    },
    {
      "cell_type": "markdown",
      "source": [
        "Bu sonuçlar, veri setindeki her bir değişkenin diğer değişkenlerle olan Pearson korelasyon katsayısını göstermektedir. Pearson korelasyon katsayısı, -1 ile +1 arasında değer alır:\n",
        "\n",
        "+1'e yaklaşan bir korelasyon katsayısı, iki değişken arasında güçlü bir pozitif doğrusal ilişki olduğunu gösterir.\n",
        "-1'e yaklaşan bir korelasyon katsayısı, iki değişken arasında güçlü bir negatif doğrusal ilişki olduğunu gösterir.\n",
        "0'a yaklaşan bir korelasyon katsayısı, iki değişken arasında herhangi bir doğrusal ilişki olmadığını gösterir.\n",
        "Örneğin, \"Number of times pregnant\" ve \"Age (years)\" değişkenleri arasındaki korelasyon katsayısı 0.544341'dir, bu da iki değişken arasında orta düzeyde pozitif bir ilişki olduğunu gösterir.\n",
        "\n",
        "Ayrıca, \"Class variable (0 or 1)\" ile diğer değişkenler arasındaki korelasyonlar, sınıflandırma probleminizde sınıf değişkeni ile diğer özellikler arasındaki ilişkiyi gösterir. Bu değerler, belirli bir özellik ile sınıf değişkeni arasındaki ilişki derecesini ölçer."
      ],
      "metadata": {
        "id": "YrVdQo74zsQ3"
      }
    },
    {
      "cell_type": "code",
      "source": [
        "# Naive Bayes modelini oluştur ve eğit\n",
        "model_nb = GaussianNB()\n",
        "model_nb.fit(X_train, y_train)\n",
        "\n",
        "# Test veri seti üzerinde tahmin yap\n",
        "y_pred_nb = model_nb.predict(X_test)\n",
        "\n",
        "# Model performansını değerlendir\n",
        "print(\"Naive Bayes Sınıflandırıcı Modeli Performansı:\")\n",
        "print(\"Doğruluk Oranı:\", accuracy_score(y_test, y_pred_nb))\n",
        "print(\"\\nSınıflandırma Raporu:\")\n",
        "print(classification_report(y_test, y_pred_nb))\n",
        "# Sensitivity ve Specificity hesaplama\n",
        "tn, fp, fn, tp = confusion_matrix(y_test, y_pred_nb).ravel()\n",
        "sensitivity = tp / (tp + fn)\n",
        "specificity = tn / (tn + fp)\n",
        "\n",
        "print(\"Sensitivity (Duyarlılık):\", sensitivity)\n",
        "print(\"Specificity (Özgünlük):\", specificity)\n"
      ],
      "metadata": {
        "colab": {
          "base_uri": "https://localhost:8080/"
        },
        "id": "MdZqzqBhVM_M",
        "outputId": "608878ae-f4f7-4b60-a1bb-7b01edfe9646"
      },
      "execution_count": null,
      "outputs": [
        {
          "output_type": "stream",
          "name": "stdout",
          "text": [
            "Naive Bayes Sınıflandırıcı Modeli Performansı:\n",
            "Doğruluk Oranı: 0.7445887445887446\n",
            "\n",
            "Sınıflandırma Raporu:\n",
            "              precision    recall  f1-score   support\n",
            "\n",
            "         0.0       0.82      0.79      0.80       151\n",
            "         1.0       0.62      0.66      0.64        80\n",
            "\n",
            "    accuracy                           0.74       231\n",
            "   macro avg       0.72      0.73      0.72       231\n",
            "weighted avg       0.75      0.74      0.75       231\n",
            "\n",
            "Sensitivity (Duyarlılık): 0.6625\n",
            "Specificity (Özgünlük): 0.7880794701986755\n"
          ]
        }
      ]
    },
    {
      "cell_type": "code",
      "source": [
        "from sklearn.metrics import roc_curve, roc_auc_score\n",
        "import matplotlib.pyplot as plt\n",
        "\n",
        "# ROC eğrisi ve AUC hesaplama\n",
        "probs = model_nb.predict_proba(X_test)[:, 1]\n",
        "fpr, tpr, thresholds = roc_curve(y_test, probs)\n",
        "auc = roc_auc_score(y_test, probs)\n",
        "\n",
        "# ROC eğrisini çizme\n",
        "plt.figure(figsize=(8, 6))\n",
        "plt.plot(fpr, tpr, label='ROC Curve (AUC = {:.2f})'.format(auc))\n",
        "plt.plot([0, 1], [0, 1], linestyle='--', color='red', label='Random Guessing')\n",
        "plt.xlabel('False Positive Rate')\n",
        "plt.ylabel('True Positive Rate')\n",
        "plt.title('ROC Curve')\n",
        "plt.legend()\n",
        "plt.show()\n",
        "\n",
        "print(\"AUC Score:\", auc)"
      ],
      "metadata": {
        "colab": {
          "base_uri": "https://localhost:8080/",
          "height": 582
        },
        "id": "ruH1LflZgISE",
        "outputId": "30ed615c-0b5c-468a-f679-16ded66da81e"
      },
      "execution_count": null,
      "outputs": [
        {
          "output_type": "display_data",
          "data": {
            "text/plain": [
              "<Figure size 800x600 with 1 Axes>"
            ],
            "image/png": "[encoded data removed]"
          },
          "metadata": {}
        },
        {
          "output_type": "stream",
          "name": "stdout",
          "text": [
            "AUC Score: 0.7904801324503311\n"
          ]
        }
      ]
    },
    {
      "cell_type": "markdown",
      "source": [
        "ROC eğrisi belirli bir eşik değeri için değil, tüm olası eşik değerleri için performansı gösterir."
      ],
      "metadata": {
        "id": "KFqaHAPhGqk4"
      }
    }
  ]
}