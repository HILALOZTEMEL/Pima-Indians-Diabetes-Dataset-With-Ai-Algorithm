{
  "nbformat": 4,
  "nbformat_minor": 0,
  "metadata": {
    "colab": {
      "provenance": []
    },
    "kernelspec": {
      "name": "python3",
      "display_name": "Python 3"
    },
    "language_info": {
      "name": "python"
    }
  },
  "cells": [
    {
      "cell_type": "markdown",
      "source": [
        "234312028 Hilal Öztemel"
      ],
      "metadata": {
        "id": "XLB9HNzu3afE"
      }
    },
    {
      "cell_type": "markdown",
      "source": [
        "#Kütüphanelerin import edilmesi"
      ],
      "metadata": {
        "id": "cY-Cn0yAs5fJ"
      }
    },
    {
      "cell_type": "code",
      "source": [
        "import pandas as pd\n",
        "import matplotlib.pyplot as plt\n",
        "from sklearn.preprocessing import MinMaxScaler\n",
        "from sklearn.model_selection import train_test_split\n",
        "from sklearn.metrics import mean_squared_error, r2_score\n",
        "from sklearn.metrics import classification_report, confusion_matrix, accuracy_score"
      ],
      "metadata": {
        "id": "m5qT_g44MwqH"
      },
      "execution_count": 1,
      "outputs": []
    },
    {
      "cell_type": "markdown",
      "source": [
        "#Drive a bağlama kodu"
      ],
      "metadata": {
        "id": "dyVpb1bas7Dt"
      }
    },
    {
      "cell_type": "code",
      "source": [
        "from google.colab import drive\n",
        "drive.mount('/content/drive')"
      ],
      "metadata": {
        "colab": {
          "base_uri": "https://localhost:8080/"
        },
        "id": "_XYIEgBBJIuq",
        "outputId": "ae8bd2fd-ed82-474a-e137-13887ca2dd4a"
      },
      "execution_count": 2,
      "outputs": [
        {
          "output_type": "stream",
          "name": "stdout",
          "text": [
            "Mounted at /content/drive\n"
          ]
        }
      ]
    },
    {
      "cell_type": "code",
      "execution_count": 3,
      "metadata": {
        "colab": {
          "base_uri": "https://localhost:8080/",
          "height": 241
        },
        "id": "NZuVluokMHDN",
        "outputId": "b2c0700b-2669-41f4-c9d9-1d18f706bc34"
      },
      "outputs": [
        {
          "output_type": "execute_result",
          "data": {
            "text/plain": [
              "   Number of times pregnant  \\\n",
              "0                         6   \n",
              "1                         1   \n",
              "2                         8   \n",
              "3                         1   \n",
              "4                         0   \n",
              "\n",
              "   Plasma glucose concentration a 2 hours in an oral glucose tolerance test  \\\n",
              "0                                                148                          \n",
              "1                                                 85                          \n",
              "2                                                183                          \n",
              "3                                                 89                          \n",
              "4                                                137                          \n",
              "\n",
              "   Diastolic blood pressure (mm Hg)  Triceps skinfold thickness (mm)  \\\n",
              "0                                72                               35   \n",
              "1                                66                               29   \n",
              "2                                64                                0   \n",
              "3                                66                               23   \n",
              "4                                40                               35   \n",
              "\n",
              "   2-Hour serum insulin (mu U/ml)  \\\n",
              "0                               0   \n",
              "1                               0   \n",
              "2                               0   \n",
              "3                              94   \n",
              "4                             168   \n",
              "\n",
              "   Body mass index (weight in kg/(height in m)^2)  Diabetes pedigree function  \\\n",
              "0                                            33.6                       0.627   \n",
              "1                                            26.6                       0.351   \n",
              "2                                            23.3                       0.672   \n",
              "3                                            28.1                       0.167   \n",
              "4                                            43.1                       2.288   \n",
              "\n",
              "   Age (years)  Class variable (0 or 1)  \n",
              "0           50                        1  \n",
              "1           31                        0  \n",
              "2           32                        1  \n",
              "3           21                        0  \n",
              "4           33                        1  "
            ],
            "text/html": [
              "\n",
              "  <div id=\"df-405a83f2-f9e1-44ca-80f7-caf7159d4313\" class=\"colab-df-container\">\n",
              "    <div>\n",
              "<style scoped>\n",
              "    .dataframe tbody tr th:only-of-type {\n",
              "        vertical-align: middle;\n",
              "    }\n",
              "\n",
              "    .dataframe tbody tr th {\n",
              "        vertical-align: top;\n",
              "    }\n",
              "\n",
              "    .dataframe thead th {\n",
              "        text-align: right;\n",
              "    }\n",
              "</style>\n",
              "<table border=\"1\" class=\"dataframe\">\n",
              "  <thead>\n",
              "    <tr style=\"text-align: right;\">\n",
              "      <th></th>\n",
              "      <th>Number of times pregnant</th>\n",
              "      <th>Plasma glucose concentration a 2 hours in an oral glucose tolerance test</th>\n",
              "      <th>Diastolic blood pressure (mm Hg)</th>\n",
              "      <th>Triceps skinfold thickness (mm)</th>\n",
              "      <th>2-Hour serum insulin (mu U/ml)</th>\n",
              "      <th>Body mass index (weight in kg/(height in m)^2)</th>\n",
              "      <th>Diabetes pedigree function</th>\n",
              "      <th>Age (years)</th>\n",
              "      <th>Class variable (0 or 1)</th>\n",
              "    </tr>\n",
              "  </thead>\n",
              "  <tbody>\n",
              "    <tr>\n",
              "      <th>0</th>\n",
              "      <td>6</td>\n",
              "      <td>148</td>\n",
              "      <td>72</td>\n",
              "      <td>35</td>\n",
              "      <td>0</td>\n",
              "      <td>33.6</td>\n",
              "      <td>0.627</td>\n",
              "      <td>50</td>\n",
              "      <td>1</td>\n",
              "    </tr>\n",
              "    <tr>\n",
              "      <th>1</th>\n",
              "      <td>1</td>\n",
              "      <td>85</td>\n",
              "      <td>66</td>\n",
              "      <td>29</td>\n",
              "      <td>0</td>\n",
              "      <td>26.6</td>\n",
              "      <td>0.351</td>\n",
              "      <td>31</td>\n",
              "      <td>0</td>\n",
              "    </tr>\n",
              "    <tr>\n",
              "      <th>2</th>\n",
              "      <td>8</td>\n",
              "      <td>183</td>\n",
              "      <td>64</td>\n",
              "      <td>0</td>\n",
              "      <td>0</td>\n",
              "      <td>23.3</td>\n",
              "      <td>0.672</td>\n",
              "      <td>32</td>\n",
              "      <td>1</td>\n",
              "    </tr>\n",
              "    <tr>\n",
              "      <th>3</th>\n",
              "      <td>1</td>\n",
              "      <td>89</td>\n",
              "      <td>66</td>\n",
              "      <td>23</td>\n",
              "      <td>94</td>\n",
              "      <td>28.1</td>\n",
              "      <td>0.167</td>\n",
              "      <td>21</td>\n",
              "      <td>0</td>\n",
              "    </tr>\n",
              "    <tr>\n",
              "      <th>4</th>\n",
              "      <td>0</td>\n",
              "      <td>137</td>\n",
              "      <td>40</td>\n",
              "      <td>35</td>\n",
              "      <td>168</td>\n",
              "      <td>43.1</td>\n",
              "      <td>2.288</td>\n",
              "      <td>33</td>\n",
              "      <td>1</td>\n",
              "    </tr>\n",
              "  </tbody>\n",
              "</table>\n",
              "</div>\n",
              "    <div class=\"colab-df-buttons\">\n",
              "\n",
              "  <div class=\"colab-df-container\">\n",
              "    <button class=\"colab-df-convert\" onclick=\"convertToInteractive('df-405a83f2-f9e1-44ca-80f7-caf7159d4313')\"\n",
              "            title=\"Convert this dataframe to an interactive table.\"\n",
              "            style=\"display:none;\">\n",
              "\n",
              "  <svg xmlns=\"http://www.w3.org/2000/svg\" height=\"24px\" viewBox=\"0 -960 960 960\">\n",
              "    <path d=\"M120-120v-720h720v720H120Zm60-500h600v-160H180v160Zm220 220h160v-160H400v160Zm0 220h160v-160H400v160ZM180-400h160v-160H180v160Zm440 0h160v-160H620v160ZM180-180h160v-160H180v160Zm440 0h160v-160H620v160Z\"/>\n",
              "  </svg>\n",
              "    </button>\n",
              "\n",
              "  <style>\n",
              "    .colab-df-container {\n",
              "      display:flex;\n",
              "      gap: 12px;\n",
              "    }\n",
              "\n",
              "    .colab-df-convert {\n",
              "      background-color: #E8F0FE;\n",
              "      border: none;\n",
              "      border-radius: 50%;\n",
              "      cursor: pointer;\n",
              "      display: none;\n",
              "      fill: #1967D2;\n",
              "      height: 32px;\n",
              "      padding: 0 0 0 0;\n",
              "      width: 32px;\n",
              "    }\n",
              "\n",
              "    .colab-df-convert:hover {\n",
              "      background-color: #E2EBFA;\n",
              "      box-shadow: 0px 1px 2px rgba(60, 64, 67, 0.3), 0px 1px 3px 1px rgba(60, 64, 67, 0.15);\n",
              "      fill: #174EA6;\n",
              "    }\n",
              "\n",
              "    .colab-df-buttons div {\n",
              "      margin-bottom: 4px;\n",
              "    }\n",
              "\n",
              "    [theme=dark] .colab-df-convert {\n",
              "      background-color: #3B4455;\n",
              "      fill: #D2E3FC;\n",
              "    }\n",
              "\n",
              "    [theme=dark] .colab-df-convert:hover {\n",
              "      background-color: #434B5C;\n",
              "      box-shadow: 0px 1px 3px 1px rgba(0, 0, 0, 0.15);\n",
              "      filter: drop-shadow(0px 1px 2px rgba(0, 0, 0, 0.3));\n",
              "      fill: #FFFFFF;\n",
              "    }\n",
              "  </style>\n",
              "\n",
              "    <script>\n",
              "      const buttonEl =\n",
              "        document.querySelector('#df-405a83f2-f9e1-44ca-80f7-caf7159d4313 button.colab-df-convert');\n",
              "      buttonEl.style.display =\n",
              "        google.colab.kernel.accessAllowed ? 'block' : 'none';\n",
              "\n",
              "      async function convertToInteractive(key) {\n",
              "        const element = document.querySelector('#df-405a83f2-f9e1-44ca-80f7-caf7159d4313');\n",
              "        const dataTable =\n",
              "          await google.colab.kernel.invokeFunction('convertToInteractive',\n",
              "                                                    [key], {});\n",
              "        if (!dataTable) return;\n",
              "\n",
              "        const docLinkHtml = 'Like what you see? Visit the ' +\n",
              "          '<a target=\"_blank\" href=https://colab.research.google.com/notebooks/data_table.ipynb>data table notebook</a>'\n",
              "          + ' to learn more about interactive tables.';\n",
              "        element.innerHTML = '';\n",
              "        dataTable['output_type'] = 'display_data';\n",
              "        await google.colab.output.renderOutput(dataTable, element);\n",
              "        const docLink = document.createElement('div');\n",
              "        docLink.innerHTML = docLinkHtml;\n",
              "        element.appendChild(docLink);\n",
              "      }\n",
              "    </script>\n",
              "  </div>\n",
              "\n",
              "\n",
              "<div id=\"df-ec1e9bc4-a31f-4da6-841a-08dce26fe293\">\n",
              "  <button class=\"colab-df-quickchart\" onclick=\"quickchart('df-ec1e9bc4-a31f-4da6-841a-08dce26fe293')\"\n",
              "            title=\"Suggest charts\"\n",
              "            style=\"display:none;\">\n",
              "\n",
              "<svg xmlns=\"http://www.w3.org/2000/svg\" height=\"24px\"viewBox=\"0 0 24 24\"\n",
              "     width=\"24px\">\n",
              "    <g>\n",
              "        <path d=\"M19 3H5c-1.1 0-2 .9-2 2v14c0 1.1.9 2 2 2h14c1.1 0 2-.9 2-2V5c0-1.1-.9-2-2-2zM9 17H7v-7h2v7zm4 0h-2V7h2v10zm4 0h-2v-4h2v4z\"/>\n",
              "    </g>\n",
              "</svg>\n",
              "  </button>\n",
              "\n",
              "<style>\n",
              "  .colab-df-quickchart {\n",
              "      --bg-color: #E8F0FE;\n",
              "      --fill-color: #1967D2;\n",
              "      --hover-bg-color: #E2EBFA;\n",
              "      --hover-fill-color: #174EA6;\n",
              "      --disabled-fill-color: #AAA;\n",
              "      --disabled-bg-color: #DDD;\n",
              "  }\n",
              "\n",
              "  [theme=dark] .colab-df-quickchart {\n",
              "      --bg-color: #3B4455;\n",
              "      --fill-color: #D2E3FC;\n",
              "      --hover-bg-color: #434B5C;\n",
              "      --hover-fill-color: #FFFFFF;\n",
              "      --disabled-bg-color: #3B4455;\n",
              "      --disabled-fill-color: #666;\n",
              "  }\n",
              "\n",
              "  .colab-df-quickchart {\n",
              "    background-color: var(--bg-color);\n",
              "    border: none;\n",
              "    border-radius: 50%;\n",
              "    cursor: pointer;\n",
              "    display: none;\n",
              "    fill: var(--fill-color);\n",
              "    height: 32px;\n",
              "    padding: 0;\n",
              "    width: 32px;\n",
              "  }\n",
              "\n",
              "  .colab-df-quickchart:hover {\n",
              "    background-color: var(--hover-bg-color);\n",
              "    box-shadow: 0 1px 2px rgba(60, 64, 67, 0.3), 0 1px 3px 1px rgba(60, 64, 67, 0.15);\n",
              "    fill: var(--button-hover-fill-color);\n",
              "  }\n",
              "\n",
              "  .colab-df-quickchart-complete:disabled,\n",
              "  .colab-df-quickchart-complete:disabled:hover {\n",
              "    background-color: var(--disabled-bg-color);\n",
              "    fill: var(--disabled-fill-color);\n",
              "    box-shadow: none;\n",
              "  }\n",
              "\n",
              "  .colab-df-spinner {\n",
              "    border: 2px solid var(--fill-color);\n",
              "    border-color: transparent;\n",
              "    border-bottom-color: var(--fill-color);\n",
              "    animation:\n",
              "      spin 1s steps(1) infinite;\n",
              "  }\n",
              "\n",
              "  @keyframes spin {\n",
              "    0% {\n",
              "      border-color: transparent;\n",
              "      border-bottom-color: var(--fill-color);\n",
              "      border-left-color: var(--fill-color);\n",
              "    }\n",
              "    20% {\n",
              "      border-color: transparent;\n",
              "      border-left-color: var(--fill-color);\n",
              "      border-top-color: var(--fill-color);\n",
              "    }\n",
              "    30% {\n",
              "      border-color: transparent;\n",
              "      border-left-color: var(--fill-color);\n",
              "      border-top-color: var(--fill-color);\n",
              "      border-right-color: var(--fill-color);\n",
              "    }\n",
              "    40% {\n",
              "      border-color: transparent;\n",
              "      border-right-color: var(--fill-color);\n",
              "      border-top-color: var(--fill-color);\n",
              "    }\n",
              "    60% {\n",
              "      border-color: transparent;\n",
              "      border-right-color: var(--fill-color);\n",
              "    }\n",
              "    80% {\n",
              "      border-color: transparent;\n",
              "      border-right-color: var(--fill-color);\n",
              "      border-bottom-color: var(--fill-color);\n",
              "    }\n",
              "    90% {\n",
              "      border-color: transparent;\n",
              "      border-bottom-color: var(--fill-color);\n",
              "    }\n",
              "  }\n",
              "</style>\n",
              "\n",
              "  <script>\n",
              "    async function quickchart(key) {\n",
              "      const quickchartButtonEl =\n",
              "        document.querySelector('#' + key + ' button');\n",
              "      quickchartButtonEl.disabled = true;  // To prevent multiple clicks.\n",
              "      quickchartButtonEl.classList.add('colab-df-spinner');\n",
              "      try {\n",
              "        const charts = await google.colab.kernel.invokeFunction(\n",
              "            'suggestCharts', [key], {});\n",
              "      } catch (error) {\n",
              "        console.error('Error during call to suggestCharts:', error);\n",
              "      }\n",
              "      quickchartButtonEl.classList.remove('colab-df-spinner');\n",
              "      quickchartButtonEl.classList.add('colab-df-quickchart-complete');\n",
              "    }\n",
              "    (() => {\n",
              "      let quickchartButtonEl =\n",
              "        document.querySelector('#df-ec1e9bc4-a31f-4da6-841a-08dce26fe293 button');\n",
              "      quickchartButtonEl.style.display =\n",
              "        google.colab.kernel.accessAllowed ? 'block' : 'none';\n",
              "    })();\n",
              "  </script>\n",
              "</div>\n",
              "\n",
              "    </div>\n",
              "  </div>\n"
            ],
            "application/vnd.google.colaboratory.intrinsic+json": {
              "type": "dataframe",
              "variable_name": "df",
              "summary": "{\n  \"name\": \"df\",\n  \"rows\": 768,\n  \"fields\": [\n    {\n      \"column\": \"Number of times pregnant\",\n      \"properties\": {\n        \"dtype\": \"number\",\n        \"std\": 3,\n        \"min\": 0,\n        \"max\": 17,\n        \"num_unique_values\": 17,\n        \"samples\": [\n          6,\n          1,\n          3\n        ],\n        \"semantic_type\": \"\",\n        \"description\": \"\"\n      }\n    },\n    {\n      \"column\": \"Plasma glucose concentration a 2 hours in an oral glucose tolerance test\",\n      \"properties\": {\n        \"dtype\": \"number\",\n        \"std\": 31,\n        \"min\": 0,\n        \"max\": 199,\n        \"num_unique_values\": 136,\n        \"samples\": [\n          151,\n          101,\n          112\n        ],\n        \"semantic_type\": \"\",\n        \"description\": \"\"\n      }\n    },\n    {\n      \"column\": \"Diastolic blood pressure (mm Hg)\",\n      \"properties\": {\n        \"dtype\": \"number\",\n        \"std\": 19,\n        \"min\": 0,\n        \"max\": 122,\n        \"num_unique_values\": 47,\n        \"samples\": [\n          86,\n          46,\n          85\n        ],\n        \"semantic_type\": \"\",\n        \"description\": \"\"\n      }\n    },\n    {\n      \"column\": \"Triceps skinfold thickness (mm)\",\n      \"properties\": {\n        \"dtype\": \"number\",\n        \"std\": 15,\n        \"min\": 0,\n        \"max\": 99,\n        \"num_unique_values\": 51,\n        \"samples\": [\n          7,\n          12,\n          48\n        ],\n        \"semantic_type\": \"\",\n        \"description\": \"\"\n      }\n    },\n    {\n      \"column\": \"2-Hour serum insulin (mu U/ml)\",\n      \"properties\": {\n        \"dtype\": \"number\",\n        \"std\": 115,\n        \"min\": 0,\n        \"max\": 846,\n        \"num_unique_values\": 186,\n        \"samples\": [\n          52,\n          41,\n          183\n        ],\n        \"semantic_type\": \"\",\n        \"description\": \"\"\n      }\n    },\n    {\n      \"column\": \"Body mass index (weight in kg/(height in m)^2)\",\n      \"properties\": {\n        \"dtype\": \"number\",\n        \"std\": 7.884160320375446,\n        \"min\": 0.0,\n        \"max\": 67.1,\n        \"num_unique_values\": 248,\n        \"samples\": [\n          19.9,\n          31.0,\n          38.1\n        ],\n        \"semantic_type\": \"\",\n        \"description\": \"\"\n      }\n    },\n    {\n      \"column\": \"Diabetes pedigree function\",\n      \"properties\": {\n        \"dtype\": \"number\",\n        \"std\": 0.3313285950127749,\n        \"min\": 0.078,\n        \"max\": 2.42,\n        \"num_unique_values\": 517,\n        \"samples\": [\n          1.731,\n          0.426,\n          0.138\n        ],\n        \"semantic_type\": \"\",\n        \"description\": \"\"\n      }\n    },\n    {\n      \"column\": \"Age (years)\",\n      \"properties\": {\n        \"dtype\": \"number\",\n        \"std\": 11,\n        \"min\": 21,\n        \"max\": 81,\n        \"num_unique_values\": 52,\n        \"samples\": [\n          60,\n          47,\n          72\n        ],\n        \"semantic_type\": \"\",\n        \"description\": \"\"\n      }\n    },\n    {\n      \"column\": \"Class variable (0 or 1)\",\n      \"properties\": {\n        \"dtype\": \"number\",\n        \"std\": 0,\n        \"min\": 0,\n        \"max\": 1,\n        \"num_unique_values\": 2,\n        \"samples\": [\n          0,\n          1\n        ],\n        \"semantic_type\": \"\",\n        \"description\": \"\"\n      }\n    }\n  ]\n}"
            }
          },
          "metadata": {},
          "execution_count": 3
        }
      ],
      "source": [
        "#veri setinin yolunu file_path adlı dosyaya yükle\n",
        "file_path = \"/content/drive/MyDrive/machinelearning/vize/veri-seti.txt\"\n",
        "\n",
        "# pandas kullanarak veri setini oku\n",
        "df = pd.read_csv(file_path, header=None, sep='\\t')\n",
        "# Sütun adları listesi\n",
        "columns_list = [\n",
        "    \"Number of times pregnant\",\n",
        "    \"Plasma glucose concentration a 2 hours in an oral glucose tolerance test\",\n",
        "    \"Diastolic blood pressure (mm Hg)\",\n",
        "    \"Triceps skinfold thickness (mm)\",\n",
        "    \"2-Hour serum insulin (mu U/ml)\",\n",
        "    \"Body mass index (weight in kg/(height in m)^2)\",\n",
        "    \"Diabetes pedigree function\",\n",
        "    \"Age (years)\",\n",
        "    \"Class variable (0 or 1)\"\n",
        "]\n",
        "\n",
        "# Sütun adlarını değiştir\n",
        "df.columns = columns_list\n",
        "df.head()"
      ]
    },
    {
      "cell_type": "code",
      "source": [
        "# Eksik değerlerin sayısını hesaplama\n",
        "missing_values = df.isnull().sum()\n",
        "\n",
        "# Her sütun için eksik değerlerin toplamını yazdırma\n",
        "print(\"Her sütundaki eksik değer sayısı:\")\n",
        "print(missing_values)"
      ],
      "metadata": {
        "id": "DfuymNWqjtds",
        "colab": {
          "base_uri": "https://localhost:8080/"
        },
        "outputId": "c8f9ca35-c0c2-4023-f6ec-83c928e19643"
      },
      "execution_count": 4,
      "outputs": [
        {
          "output_type": "stream",
          "name": "stdout",
          "text": [
            "Her sütundaki eksik değer sayısı:\n",
            "Number of times pregnant                                                    0\n",
            "Plasma glucose concentration a 2 hours in an oral glucose tolerance test    0\n",
            "Diastolic blood pressure (mm Hg)                                            0\n",
            "Triceps skinfold thickness (mm)                                             0\n",
            "2-Hour serum insulin (mu U/ml)                                              0\n",
            "Body mass index (weight in kg/(height in m)^2)                              0\n",
            "Diabetes pedigree function                                                  0\n",
            "Age (years)                                                                 0\n",
            "Class variable (0 or 1)                                                     0\n",
            "dtype: int64\n"
          ]
        }
      ]
    },
    {
      "cell_type": "markdown",
      "source": [
        "veri analizinin gerçekliğini korumak ve veri setinin tamamını temsil etmek için aykısı değerler silinmemiştir."
      ],
      "metadata": {
        "id": "bZjbs_B8lPi-"
      }
    },
    {
      "cell_type": "markdown",
      "source": [
        "# **Min-Max Normalizasyonu**"
      ],
      "metadata": {
        "id": "aSikIzO5NtBV"
      }
    },
    {
      "cell_type": "markdown",
      "source": [
        "Min-max scale kullanmamın sebebi ise lineer yapıyı bozmamak için yani, min-max ölçekleme işleminin verilerin orijinal lineer ilişkilerini değiştirmeyeceğini ifade eder.Veriler arasındaki oranlar ve uzaklıklar ölçekleme işleminden sonra da korunur.Min-max scaling (minimum-maksimum ölçekleme) verileri belirli bir aralıkta (genellikle 0 ile 1 arasında) lineer olarak dönüştürür."
      ],
      "metadata": {
        "id": "mqdEOCHAl2W1"
      }
    },
    {
      "cell_type": "code",
      "source": [
        "from sklearn.preprocessing import MinMaxScaler\n",
        "import pandas as pd\n",
        "\n",
        "# Min-Max ölçekleyiciyi oluşturma\n",
        "scaler = MinMaxScaler()\n",
        "\n",
        "# Veriyi normalize etme\n",
        "normalized_data = scaler.fit_transform(df)\n",
        "\n",
        "# Normalize edilmiş veriyi DataFrame'e dönüştürme\n",
        "df_normalized = pd.DataFrame(normalized_data, columns=df.columns)\n",
        "\n",
        "# İlk beş satırı yazdırma\n",
        "print(df_normalized.head())\n"
      ],
      "metadata": {
        "id": "ZjU7EakSNc0D",
        "colab": {
          "base_uri": "https://localhost:8080/"
        },
        "outputId": "a5316937-3e4e-4510-f3dc-9802e8f22873"
      },
      "execution_count": 5,
      "outputs": [
        {
          "output_type": "stream",
          "name": "stdout",
          "text": [
            "   Number of times pregnant  \\\n",
            "0                  0.352941   \n",
            "1                  0.058824   \n",
            "2                  0.470588   \n",
            "3                  0.058824   \n",
            "4                  0.000000   \n",
            "\n",
            "   Plasma glucose concentration a 2 hours in an oral glucose tolerance test  \\\n",
            "0                                           0.743719                          \n",
            "1                                           0.427136                          \n",
            "2                                           0.919598                          \n",
            "3                                           0.447236                          \n",
            "4                                           0.688442                          \n",
            "\n",
            "   Diastolic blood pressure (mm Hg)  Triceps skinfold thickness (mm)  \\\n",
            "0                          0.590164                         0.353535   \n",
            "1                          0.540984                         0.292929   \n",
            "2                          0.524590                         0.000000   \n",
            "3                          0.540984                         0.232323   \n",
            "4                          0.327869                         0.353535   \n",
            "\n",
            "   2-Hour serum insulin (mu U/ml)  \\\n",
            "0                        0.000000   \n",
            "1                        0.000000   \n",
            "2                        0.000000   \n",
            "3                        0.111111   \n",
            "4                        0.198582   \n",
            "\n",
            "   Body mass index (weight in kg/(height in m)^2)  Diabetes pedigree function  \\\n",
            "0                                        0.500745                    0.234415   \n",
            "1                                        0.396423                    0.116567   \n",
            "2                                        0.347243                    0.253629   \n",
            "3                                        0.418778                    0.038002   \n",
            "4                                        0.642325                    0.943638   \n",
            "\n",
            "   Age (years)  Class variable (0 or 1)  \n",
            "0     0.483333                      1.0  \n",
            "1     0.166667                      0.0  \n",
            "2     0.183333                      1.0  \n",
            "3     0.000000                      0.0  \n",
            "4     0.200000                      1.0  \n"
          ]
        }
      ]
    },
    {
      "cell_type": "code",
      "source": [
        "X = df_normalized.drop(columns=['Class variable (0 or 1)'])  # Bağımsız değişkenler\n",
        "y = df_normalized['Class variable (0 or 1)']  # Bağımlı değişken\n",
        "\n",
        "# Veri setini train ve test setlerine ayırma, veri setini %30 u test olarak ayırılmıştır.\n",
        "X_train, X_test, y_train, y_test = train_test_split(X, y, test_size=0.3, random_state=42)"
      ],
      "metadata": {
        "id": "mNe6RKY-bo8e"
      },
      "execution_count": 6,
      "outputs": []
    },
    {
      "cell_type": "markdown",
      "source": [
        "# Naive bayes sınıflandırıcısını\n",
        "\n",
        "\n"
      ],
      "metadata": {
        "id": "m9h7HTQpbMyV"
      }
    },
    {
      "cell_type": "markdown",
      "source": [
        "Naive Bayes nasıl çalışır? İlk adım olarak, algoritma veri kümesini temel alır\n",
        "ve verilerdeki nitelikler birbirinden bağımsız olduğu varsayılır. Bu varsayım\n",
        "nedeniyle “naif” (ingenuos) olarak adlandırılır. Yani, bir özelliğin varlığı, diğer\n",
        "özelliklerin varlığını etkilemez. Bu, gerçek dünyada her zaman geçerli olmasa da,\n",
        "pratikte çoğu durumda iyi sonuçlar verir ve hesaplama kolaylığı sağlar.\n",
        "Örnek bir sınıflandırma senaryosunu ele alalım: E-postaların spam veya spam\n",
        "olmayan olarak etiketlenmesi.\n",
        "1. Veri Hazırlama: Öncelikle, eğitim veri kümesinde örnek e-postalar toplanır ve\n",
        "\n",
        "her e-posta belirli kategorilere (spam veya spam olmayan) göre etiketlenir. E-\n",
        "postaların içeriği, bu örneklerdeki “özellikler” olarak düşünülür.\n",
        "\n",
        "2. Olasılıkların Hesaplanması: Naive Bayes algoritması, önceden hesaplanmış\n",
        "olasılıklara dayanarak yeni bir e-postayı sınıflandırmak için kullanılır.\n",
        "\n",
        "Sınıflandırma yapmak için, iki olasılık hesaplanır: P(Spam | Özellikler): E-\n",
        "postanın verilen özelliklere dayanarak spam olma olasılığı. P(Spam Olmayan |\n",
        "\n",
        "Özellikler): E-postanın verilen özelliklere dayanarak spam olmama olasılığı.\n",
        "3. P(Spam | Özellikler) = (P(Özellikler | Spam) * P(Spam)) / P(Özellikler) P(Spam\n",
        "Olmayan | Özellikler) = (P(Özellikler | Spam Olmayan) * P(Spam Olmayan)) /\n",
        "P(Özellikler)\n",
        "\n",
        "Burada:\n",
        "P(Spam) ve P(Spam Olmayan), eğitim veri kümesindeki spam ve spam olmayan\n",
        "e-postaların olasılıklarıdır.\n",
        "P(Özellikler | Spam) ve P(Özellikler | Spam Olmayan), e-postanın özelliklerinin,\n",
        "belirli bir sınıfa ait olma olasılıklarıdır.\n",
        "P(Özellikler), e-postanın verilen özelliklere sahip olma olasılığıdır. Bu,\n",
        "sınıflandırmada sabit bir değer olarak kabul edilir ve sonuçların\n",
        "karşılaştırılmasında gerekli değildir.\n",
        "Sınıflandırma: Hesaplanan olasılıklar karşılaştırılır ve daha yüksek olasılığa sahip\n",
        "sınıf, yeni e-postanın sınıfı olarak tahmin edilir. Yani, eğer P(Spam | Özellikler) >\n",
        "P(Spam Olmayan | Özellikler) ise, e-posta spam olarak sınıflandırılır; aksi takdirde,\n",
        "spam olmayan olarak sınıflandırılır."
      ],
      "metadata": {
        "id": "TkQxABnRAoFo"
      }
    },
    {
      "cell_type": "code",
      "source": [
        "from sklearn.naive_bayes import GaussianNB\n",
        "# Naive Bayes sınıflandırıcısını oluştur ve eğit\n",
        "nb_classifier = GaussianNB()\n",
        "nb_classifier.fit(X_train, y_train)\n",
        "\n",
        "# Test seti üzerinde tahmin yap\n",
        "y_pred_nb = nb_classifier.predict(X_test)\n",
        "\n",
        "# Sınıflandırma raporunu yazdır\n",
        "print(\"Sınıflandırma Raporu:\")\n",
        "print(classification_report(y_test, y_pred_nb))"
      ],
      "metadata": {
        "colab": {
          "base_uri": "https://localhost:8080/"
        },
        "id": "qoVZWITBa33u",
        "outputId": "471a157d-d0aa-4371-ae21-2392018ee658"
      },
      "execution_count": 7,
      "outputs": [
        {
          "output_type": "stream",
          "name": "stdout",
          "text": [
            "Sınıflandırma Raporu:\n",
            "              precision    recall  f1-score   support\n",
            "\n",
            "         0.0       0.82      0.79      0.80       151\n",
            "         1.0       0.62      0.66      0.64        80\n",
            "\n",
            "    accuracy                           0.74       231\n",
            "   macro avg       0.72      0.73      0.72       231\n",
            "weighted avg       0.75      0.74      0.75       231\n",
            "\n"
          ]
        }
      ]
    },
    {
      "cell_type": "code",
      "source": [
        "from sklearn.metrics import mean_squared_error\n",
        "\n",
        "# Modelin tahmin ettiği etiketleri kullanarak ortalama karesel hatayı hesapla\n",
        "mse = mean_squared_error(y_test, y_pred_nb)\n",
        "print(\"Ortalama Karesel Hata:\", mse)"
      ],
      "metadata": {
        "colab": {
          "base_uri": "https://localhost:8080/"
        },
        "id": "Hfjse2NB9_YA",
        "outputId": "8470238f-7154-40e1-85e9-a0001c84d6ef"
      },
      "execution_count": 8,
      "outputs": [
        {
          "output_type": "stream",
          "name": "stdout",
          "text": [
            "Ortalama Karesel Hata: 0.2554112554112554\n"
          ]
        }
      ]
    },
    {
      "cell_type": "code",
      "source": [
        "# y_test (gerçek sınıflar) ve y_pred_nb (Naive Bayes sınıflandırıcısı tarafından yapılan tahminler) arasındaki konfüzyon matrisini hesaplar.\n",
        "# Bu matris, gerçek ve tahmin edilen sınıfların karşılaştırılmasını içerir.\n",
        "nb_conf_matrix = confusion_matrix(y_test, y_pred_nb)\n",
        "\n",
        "print(\"NB Sınıflandırıcı Konfüzyon Matrisi:\")\n",
        "print(nb_conf_matrix)"
      ],
      "metadata": {
        "colab": {
          "base_uri": "https://localhost:8080/"
        },
        "id": "_iXUMJWsaVlR",
        "outputId": "f3cbba3f-879b-4ba8-b139-2936fbe4cd46"
      },
      "execution_count": 9,
      "outputs": [
        {
          "output_type": "stream",
          "name": "stdout",
          "text": [
            "NB Sınıflandırıcı Konfüzyon Matrisi:\n",
            "[[119  32]\n",
            " [ 27  53]]\n"
          ]
        }
      ]
    },
    {
      "cell_type": "code",
      "source": [
        "\n",
        "#Bu yöntem, 2x2 boyutundaki konfüzyon matrisini düzleştirir ve dört farklı hücre değerini (true negative, false positive, false negative, true positive) döndürür.\n",
        "tn, fp, fn, tp = confusion_matrix(y_test, y_pred_nb).ravel() # Dört farklı hücre değerini ayrı değişkenlere atar.\n",
        "\n",
        "sensitivity = tp / (tp + fn) # Hassasiyet, gerçek pozitiflerin (TP) tüm pozitif tahminlere (TP + FN) oranını ifade eder.\n",
        "specificity = tn / (tn + fp) # Özgünlük, gerçek negatiflerin (TN) tüm negatif tahminlere (TN + FP) oranını ifade eder.\n",
        "\n",
        "print(\"Sensitivity (Duyarlılık):\", sensitivity)\n",
        "print(\"Specificity (Özgünlük):\", specificity)\n"
      ],
      "metadata": {
        "colab": {
          "base_uri": "https://localhost:8080/"
        },
        "id": "_qwZYFKoayUr",
        "outputId": "486c9bdb-9354-4f6b-d4b3-30903ec442c9"
      },
      "execution_count": 10,
      "outputs": [
        {
          "output_type": "stream",
          "name": "stdout",
          "text": [
            "Sensitivity (Duyarlılık): 0.6625\n",
            "Specificity (Özgünlük): 0.7880794701986755\n"
          ]
        }
      ]
    },
    {
      "cell_type": "code",
      "source": [
        "from sklearn.metrics import roc_curve, roc_auc_score\n",
        "import matplotlib.pyplot as plt\n",
        "\n",
        "# Naive Bayes sınıflandırıcısı ile olasılık tahminleri yapma\n",
        "probs_nb = nb_classifier.predict_proba(X_test)[:, 1]\n",
        "\n",
        "# ROC eğrisi ve AUC değerinin hesaplanması\n",
        "fpr_nb, tpr_nb, thresholds_nb = roc_curve(y_test, probs_nb)\n",
        "auc_nb = roc_auc_score(y_test, probs_nb)\n",
        "\n",
        "# ROC eğrisinin çizdirilmesi\n",
        "plt.figure(figsize=(8, 6))\n",
        "plt.plot(fpr_nb, tpr_nb, label='ROC Curve (AUC = {:.2f})'.format(auc_nb))\n",
        "plt.plot([0, 1], [0, 1], linestyle='--', color='red', label='Random Guessing')\n",
        "plt.xlabel('False Positive Rate')\n",
        "plt.ylabel('True Positive Rate')\n",
        "plt.title('ROC Curve for Naive Bayes Classifier')\n",
        "plt.legend()\n",
        "plt.show()\n",
        "\n",
        "# AUC skorunun yazdırılması\n",
        "print(\"Naive Bayes Sınıflandırıcı AUC Skoru:\", auc_nb)\n"
      ],
      "metadata": {
        "colab": {
          "base_uri": "https://localhost:8080/",
          "height": 582
        },
        "id": "9rSaGxqoqKea",
        "outputId": "9df988b3-0699-489b-f2de-b925c6406676"
      },
      "execution_count": 11,
      "outputs": [
        {
          "output_type": "display_data",
          "data": {
            "text/plain": [
              "<Figure size 800x600 with 1 Axes>"
            ],
            "image/png": "[encoded data removed]"
          },
          "metadata": {}
        },
        {
          "output_type": "stream",
          "name": "stdout",
          "text": [
            "Naive Bayes Sınıflandırıcı AUC Skoru: 0.7904801324503311\n"
          ]
        }
      ]
    },
    {
      "cell_type": "markdown",
      "source": [
        "# KNeighborsClassifier"
      ],
      "metadata": {
        "id": "lddcDln6re8r"
      }
    },
    {
      "cell_type": "markdown",
      "source": [
        "KNN Algoritma Adımları:\n",
        "* Adım 1: Optimal K değerinin seçilmesi\n",
        "İlk olarak k parametresi belirlenir. K, tahmin yapılırken en yakın komşuların sayısını temsil eder. (Örnek : k=5 ise en yakın 5 komşuya göre sınıflandırma yapılacaktır.\n",
        "* Adım 2: Mesafe Hesaplama\n",
        "Hedef ve eğitim, veri noktaları arasındaki benzerliği (mesafeyi) ölçmek için Öklid mesafesi kullanılır. Veri kümesindeki her bir veri noktası ile hedef nokta arasındaki mesafe hesaplanır.\n",
        "* Adım 3: En Yakın Komşuları Bulma\n",
        "Hedef noktaya en kısa mesafeye sahip k veri noktası, en yakın komşulardır. Öznitelik değerlerine göre k komşu veya komşuların sınıfına atanır. Kaç komşu bulmak istiyorsan o kadar komşu seçilir. 4 komşu istiyorsan ilk dördüne bakılır. 7 ise ilk yedisine bakılır. Örnekte ben iki tane komşu seçtim. Hepsinde düzgün dağılımda ise 5 komşuluk için beşininde aynı sonuç çıkacaktır. 5 örnek seçtin 3 e 2 çıktı diyelim örnek veri birbirine yakın örnekler içermektedir.\n",
        "* Adım 4: Sınıflandırma için Oylama veya Regresyon için Ortalama Alma\n",
        "Sınıflandırma problemi için, sınıf etiketleri çoğunluk oylaması yaparak belirlenir. Komşular arasında en çok tekrar eden sınıf, hedef veri noktası için tahmin edilen sınıf haline gelir.\n",
        "Regresyon problemi için, hedef noktanın K en yakın komşularının hedef değerlerinin ortalaması alınarak sınıf etiketi hesaplanır. Hesaplanan ortalama değer, hedef veri noktası için tahmin edilen çıkış haline gelir."
      ],
      "metadata": {
        "id": "_ogZGLNuBT--"
      }
    },
    {
      "cell_type": "code",
      "source": [
        "# Veri setini train ve test setlerine ayırma, veri setini %30 u test olarak ayırılmıştır.\n",
        "X_train, X_test, y_train, y_test = train_test_split(X, y, test_size=0.3, random_state=42)"
      ],
      "metadata": {
        "id": "uVuCMoNEpuhn"
      },
      "execution_count": 12,
      "outputs": []
    },
    {
      "cell_type": "code",
      "source": [
        "from sklearn.neighbors import KNeighborsClassifier\n",
        "from sklearn.metrics import classification_report\n",
        "\n",
        "# En iyi K değerini bul\n",
        "best_k = None\n",
        "best_score = 0\n",
        "\n",
        "for k in range(1, 21):  # 1'den 20'ye kadar k değerlerini dene\n",
        "    knn_classifier = KNeighborsClassifier(n_neighbors=k)\n",
        "    knn_classifier.fit(X_train, y_train)\n",
        "    score = knn_classifier.score(X_test, y_test)\n",
        "    if score > best_score:\n",
        "        best_score = score\n",
        "        best_k = k\n",
        "\n",
        "# En iyi K değeri ile KNN sınıflandırıcısını oluştur ve eğit\n",
        "best_knn_classifier = KNeighborsClassifier(n_neighbors=best_k)\n",
        "best_knn_classifier.fit(X_train, y_train)\n",
        "\n",
        "# Test seti üzerinde tahmin yap\n",
        "y_pred_knn = best_knn_classifier.predict(X_test)\n",
        "\n",
        "# Sınıflandırma raporunu yazdır\n",
        "print(\"En iyi K değeri:\", best_k)\n",
        "print(\"Sınıflandırma Raporu:\")\n",
        "print(classification_report(y_test, y_pred_knn))\n"
      ],
      "metadata": {
        "colab": {
          "base_uri": "https://localhost:8080/"
        },
        "id": "SC6YNfXMpxJa",
        "outputId": "e52224b9-2fc2-46e0-f182-41af8110e8eb"
      },
      "execution_count": 13,
      "outputs": [
        {
          "output_type": "stream",
          "name": "stdout",
          "text": [
            "En iyi K değeri: 17\n",
            "Sınıflandırma Raporu:\n",
            "              precision    recall  f1-score   support\n",
            "\n",
            "         0.0       0.76      0.86      0.80       151\n",
            "         1.0       0.64      0.47      0.55        80\n",
            "\n",
            "    accuracy                           0.73       231\n",
            "   macro avg       0.70      0.67      0.68       231\n",
            "weighted avg       0.72      0.73      0.72       231\n",
            "\n"
          ]
        }
      ]
    },
    {
      "cell_type": "code",
      "source": [
        "from sklearn.metrics import mean_squared_error\n",
        "\n",
        "# Modelin tahmin ettiği etiketleri kullanarak ortalama karesel hatayı hesapla\n",
        "mse = mean_squared_error(y_test, y_pred_knn)\n",
        "print(\"Ortalama Karesel Hata:\", mse)"
      ],
      "metadata": {
        "colab": {
          "base_uri": "https://localhost:8080/"
        },
        "id": "mMmmXp10AMFI",
        "outputId": "a953520a-41d6-4b75-b5d4-de7470de09bd"
      },
      "execution_count": 14,
      "outputs": [
        {
          "output_type": "stream",
          "name": "stdout",
          "text": [
            "Ortalama Karesel Hata: 0.2727272727272727\n"
          ]
        }
      ]
    },
    {
      "cell_type": "code",
      "source": [
        "from sklearn.neighbors import KNeighborsClassifier\n",
        "# K değerlerini deneyerek en iyi performansı bul\n",
        "best_k = None\n",
        "best_score = 0\n",
        "\n",
        "for k in range(1, 30):  # 1'den 30'ye kadar k değerlerini dene\n",
        "    knn_classifier = KNeighborsClassifier(n_neighbors=k)\n",
        "    knn_classifier.fit(X_train, y_train)\n",
        "    score = knn_classifier.score(X_test, y_test)\n",
        "    if score > best_score:\n",
        "        best_score = score\n",
        "        best_k = k\n",
        "\n",
        "# En iyi k değerini kullanarak KNN sınıflandırıcısını oluştur ve eğit\n",
        "best_knn_classifier = KNeighborsClassifier(n_neighbors=best_k)\n",
        "best_knn_classifier.fit(X_train, y_train)\n",
        "\n",
        "# Test seti üzerinde tahmin yap\n",
        "y_pred_knn = best_knn_classifier.predict(X_test)\n",
        "\n",
        "# Sınıflandırma raporunu yazdır\n",
        "print(\"En iyi K değeri:\", best_k)\n",
        "print(\"Sınıflandırma Raporu:\")\n",
        "print(classification_report(y_test, y_pred_knn))\n"
      ],
      "metadata": {
        "colab": {
          "base_uri": "https://localhost:8080/"
        },
        "id": "_24uLv0P_dOX",
        "outputId": "3310b23b-1afd-4907-8f38-160d0a4b4611"
      },
      "execution_count": 15,
      "outputs": [
        {
          "output_type": "stream",
          "name": "stdout",
          "text": [
            "En iyi K değeri: 23\n",
            "Sınıflandırma Raporu:\n",
            "              precision    recall  f1-score   support\n",
            "\n",
            "         0.0       0.76      0.88      0.81       151\n",
            "         1.0       0.67      0.46      0.55        80\n",
            "\n",
            "    accuracy                           0.74       231\n",
            "   macro avg       0.71      0.67      0.68       231\n",
            "weighted avg       0.73      0.74      0.72       231\n",
            "\n"
          ]
        }
      ]
    },
    {
      "cell_type": "code",
      "source": [
        "from sklearn.metrics import mean_squared_error\n",
        "\n",
        "# Modelin tahmin ettiği etiketleri kullanarak ortalama karesel hatayı hesapla\n",
        "mse = mean_squared_error(y_test, y_pred_knn)\n",
        "print(\"Ortalama Karesel Hata:\", mse)"
      ],
      "metadata": {
        "colab": {
          "base_uri": "https://localhost:8080/"
        },
        "id": "Im-hfz-n_0OA",
        "outputId": "7f9998e5-7043-4ded-d142-e9444684a28b"
      },
      "execution_count": 16,
      "outputs": [
        {
          "output_type": "stream",
          "name": "stdout",
          "text": [
            "Ortalama Karesel Hata: 0.26406926406926406\n"
          ]
        }
      ]
    },
    {
      "cell_type": "code",
      "source": [
        "from sklearn.neighbors import KNeighborsClassifier\n",
        "# K değerlerini deneyerek en iyi performansı bul\n",
        "best_k = None\n",
        "best_score = 0\n",
        "\n",
        "for k in range(1, 50):  # 1'den 50'ye kadar k değerlerini dene\n",
        "    knn_classifier = KNeighborsClassifier(n_neighbors=k)\n",
        "    knn_classifier.fit(X_train, y_train)\n",
        "    score = knn_classifier.score(X_test, y_test)\n",
        "    if score > best_score:\n",
        "        best_score = score\n",
        "        best_k = k\n",
        "\n",
        "# En iyi k değerini kullanarak KNN sınıflandırıcısını oluştur ve eğit\n",
        "best_knn_classifier = KNeighborsClassifier(n_neighbors=best_k)\n",
        "best_knn_classifier.fit(X_train, y_train)\n",
        "\n",
        "# Test seti üzerinde tahmin yap\n",
        "y_pred_knn = best_knn_classifier.predict(X_test)\n",
        "\n",
        "# Sınıflandırma raporunu yazdır\n",
        "print(\"En iyi K değeri:\", best_k)\n",
        "print(\"Sınıflandırma Raporu:\")\n",
        "print(classification_report(y_test, y_pred_knn))\n"
      ],
      "metadata": {
        "colab": {
          "base_uri": "https://localhost:8080/"
        },
        "id": "Ys8DquRAb9Iu",
        "outputId": "603aae7b-a857-42ad-e93f-699f43888692"
      },
      "execution_count": 17,
      "outputs": [
        {
          "output_type": "stream",
          "name": "stdout",
          "text": [
            "En iyi K değeri: 36\n",
            "Sınıflandırma Raporu:\n",
            "              precision    recall  f1-score   support\n",
            "\n",
            "         0.0       0.77      0.89      0.83       151\n",
            "         1.0       0.71      0.49      0.58        80\n",
            "\n",
            "    accuracy                           0.75       231\n",
            "   macro avg       0.74      0.69      0.70       231\n",
            "weighted avg       0.75      0.75      0.74       231\n",
            "\n"
          ]
        }
      ]
    },
    {
      "cell_type": "code",
      "source": [
        "from sklearn.metrics import mean_squared_error\n",
        "\n",
        "# Modelin tahmin ettiği etiketleri kullanarak ortalama karesel hatayı hesapla\n",
        "mse = mean_squared_error(y_test, y_pred_knn)\n",
        "print(\"Ortalama Karesel Hata:\", mse)"
      ],
      "metadata": {
        "colab": {
          "base_uri": "https://localhost:8080/"
        },
        "id": "nrGa0GZ5-FtH",
        "outputId": "afd322cd-2cf0-439c-d563-5d5838ce6b84"
      },
      "execution_count": 18,
      "outputs": [
        {
          "output_type": "stream",
          "name": "stdout",
          "text": [
            "Ortalama Karesel Hata: 0.24675324675324675\n"
          ]
        }
      ]
    },
    {
      "cell_type": "code",
      "source": [
        "knn_conf_matrix = confusion_matrix(y_test, y_pred_knn)\n",
        "print(\"K-NN Sınıflandırıcı Konfüzyon Matrisi:\")\n",
        "print(knn_conf_matrix)"
      ],
      "metadata": {
        "colab": {
          "base_uri": "https://localhost:8080/"
        },
        "id": "WXLL9YChaNAH",
        "outputId": "f2af18bf-ed7c-42be-f100-6b247df9840d"
      },
      "execution_count": 19,
      "outputs": [
        {
          "output_type": "stream",
          "name": "stdout",
          "text": [
            "K-NN Sınıflandırıcı Konfüzyon Matrisi:\n",
            "[[135  16]\n",
            " [ 41  39]]\n"
          ]
        }
      ]
    },
    {
      "cell_type": "code",
      "source": [
        "#Bu yöntem, 2x2 boyutundaki konfüzyon matrisini düzleştirir ve dört farklı hücre değerini (true negative, false positive, false negative, true positive) döndürür.\n",
        "tn, fp, fn, tp = confusion_matrix(y_test, y_pred_knn).ravel()# Dört farklı hücre değerini ayrı değişkenlere atar.\n",
        "sensitivity = tp / (tp + fn)# Hassasiyet, gerçek pozitiflerin (TP) tüm pozitif tahminlere (TP + FN) oranını ifade eder.\n",
        "specificity = tn / (tn + fp)# Özgünlük, gerçek negatiflerin (TN) tüm negatif tahminlere (TN + FP) oranını ifade eder.\n",
        "\n",
        "print(\"Sensitivity (Duyarlılık):\", sensitivity)\n",
        "print(\"Specificity (Özgünlük):\", specificity)"
      ],
      "metadata": {
        "colab": {
          "base_uri": "https://localhost:8080/"
        },
        "id": "QBvzntm7bF12",
        "outputId": "38840bac-34ff-4cc6-a5f6-2e1ae2ddbbf4"
      },
      "execution_count": 20,
      "outputs": [
        {
          "output_type": "stream",
          "name": "stdout",
          "text": [
            "Sensitivity (Duyarlılık): 0.4875\n",
            "Specificity (Özgünlük): 0.8940397350993378\n"
          ]
        }
      ]
    },
    {
      "cell_type": "code",
      "source": [
        "from sklearn.metrics import roc_curve, roc_auc_score\n",
        "import matplotlib.pyplot as plt\n",
        "\n",
        "# Test seti üzerinde olasılık tahminleri yap\n",
        "probs_knn = best_knn_classifier.predict_proba(X_test)[:, 1]\n",
        "\n",
        "# ROC eğrisi ve AUC değerinin hesaplanması\n",
        "fpr_knn, tpr_knn, thresholds_knn = roc_curve(y_test, probs_knn)\n",
        "auc_knn = roc_auc_score(y_test, probs_knn)\n",
        "\n",
        "# ROC eğrisinin çizdirilmesi\n",
        "plt.figure(figsize=(8, 6))\n",
        "plt.plot(fpr_knn, tpr_knn, label='ROC Curve (AUC = {:.2f})'.format(auc_knn))\n",
        "plt.plot([0, 1], [0, 1], linestyle='--', color='red', label='Random Guessing')\n",
        "plt.xlabel('False Positive Rate')\n",
        "plt.ylabel('True Positive Rate')\n",
        "plt.title('ROC Curve for KNN Classifier')\n",
        "plt.legend()\n",
        "plt.show()\n",
        "\n",
        "# AUC skorunun yazdırılması\n",
        "print(\"KNN Sınıflandırıcı AUC Skoru:\", auc_knn)\n"
      ],
      "metadata": {
        "colab": {
          "base_uri": "https://localhost:8080/",
          "height": 582
        },
        "id": "vHQuZahNp87h",
        "outputId": "30c0e2f2-ac18-4bb4-85ee-a174e58fd851"
      },
      "execution_count": 21,
      "outputs": [
        {
          "output_type": "display_data",
          "data": {
            "text/plain": [
              "<Figure size 800x600 with 1 Axes>"
            ],
            "image/png": "[encoded data removed]"
          },
          "metadata": {}
        },
        {
          "output_type": "stream",
          "name": "stdout",
          "text": [
            "KNN Sınıflandırıcı AUC Skoru: 0.7813327814569536\n"
          ]
        }
      ]
    },
    {
      "cell_type": "markdown",
      "source": [
        "KMeans için 1'den 50'ye kadar k değerleri en optimum değer oluşmuştur."
      ],
      "metadata": {
        "id": "PCaB900X_5Bx"
      }
    },
    {
      "cell_type": "markdown",
      "source": [
        "# MLPClassifier"
      ],
      "metadata": {
        "id": "z_mhI2zRruAt"
      }
    },
    {
      "cell_type": "markdown",
      "source": [
        "MLPClassifier (Çok Katmanlı Algılayıcı) çok katmanlı yapay sinir ağları (YSA) kullanarak sınıflandırma problemlerini çözmek için kullanılan bir sınıflandırma algoritmasıdır. Temel olarak, YSA, insan beyninin sinir ağlarını modelleyen bir yapay sinir ağı türüdür.\n",
        "\n",
        "MLPClassifier'ın çalışma prensibi şu adımları içerir:\n",
        "\n",
        "* Giriş Katmanı (Input Layer):\n",
        "\n",
        "Giriş katmanı, modele verilen özelliklerin sayısına göre oluşturulur. Her bir özellik, bir giriş nöronuna bağlanır.\n",
        "\n",
        "* Gizli Katmanlar (Hidden Layers):\n",
        "\n",
        "Çok katmanlı algılayıcı, bir veya daha fazla gizli katmana sahip olabilir. Bu katmanlar, giriş özelliklerini daha karmaşık ilişkileri öğrenmek için kullanır. Her gizli katman, önceki katmandan gelen çıktıları alır ve bu çıktıları bir sonraki katmana iletir. Her bir gizli katmanda birçok gizli nöron bulunabilir.\n",
        "\n",
        "* Çıkış Katmanı (Output Layer):\n",
        "\n",
        "Çıkış katmanı, modelin sınıflandırma yapmasını sağlar. Sınıflandırma probleminin türüne bağlı olarak, çıkış katmanındaki nöron sayısı sınıf sayısına eşit olabilir. Çıkış katmanındaki her bir nöron, belirli bir sınıfı temsil eder.\n",
        "Aktivasyon Fonksiyonları:\n",
        "\n",
        "Her gizli katmanda ve çıkış katmanında bulunan nöronlar, aktivasyon fonksiyonları olarak adlandırılan işlevleri kullanarak gelen sinyalleri işler. Bu fonksiyonlar, sinir ağının esnekliğini artırarak modelin daha karmaşık ilişkileri öğrenmesine yardımcı olur.\n",
        "\n",
        "* Eğitim (Training):\n",
        "\n",
        "MLPClassifier, verileri kullanarak modeli eğitir. Eğitim sürecinde, model giriş özelliklerini kullanarak tahminler yapar, bu tahminlerin gerçek etiketlerle karşılaştırır ve ardından bir kayıp fonksiyonu kullanarak modelin performansını değerlendirir. Geriye yayılım (backpropagation) algoritması kullanılarak, modelin tahminlerini iyileştirmek için ağırlıkların güncellenmesi sağlanır.\n",
        "* Yapılandırma Parametreleri:\n",
        "\n",
        "MLPClassifier'da birçok yapılandırma parametresi bulunur. Bunlar arasında gizli katman sayısı, gizli katmanlardaki nöron sayısı, aktivasyon fonksiyonları, öğrenme oranı gibi parametreler yer alır. Bu parametreler, modelin performansını ve genelleme yeteneğini etkiler."
      ],
      "metadata": {
        "id": "LWOwAV8oCDZc"
      }
    },
    {
      "cell_type": "code",
      "source": [
        "# Veri setini train ve test setlerine ayırma, veri setini %30 u test olarak ayırılmıştır.\n",
        "X_train, X_test, y_train, y_test = train_test_split(X, y, test_size=0.3, random_state=42)"
      ],
      "metadata": {
        "id": "6u_PbWi6p-Tt"
      },
      "execution_count": 22,
      "outputs": []
    },
    {
      "cell_type": "code",
      "source": [
        "from sklearn.neural_network import MLPClassifier  # MLP sınıflandırıcısını içe aktarır\n",
        "from sklearn.metrics import classification_report  # Sınıflandırma raporu oluşturmak için gerekli kütüphaneyi içe aktarır\n",
        "\n",
        "# MLP Sınıflandırıcıyı oluşturur ve eğitir.bir çok katmanlı algılayıcı (MLP) sınıflandırıcısını oluşturur.\n",
        "# hidden_layer_sizes=(100, 50) parametresi, gizli katmanların sayısını ve her bir gizli katmandaki nöron sayısını belirtir. max_iter=1000,\n",
        "# eğitimin maksimum iterasyon sayısını belirtir. random_state=42, sonuçların tekrarlanabilir olmasını sağlayan rastgele bir tohum değeridir.\n",
        "mlp_classifier = MLPClassifier(hidden_layer_sizes=(100, 50), max_iter=1000, random_state=42)\n",
        "mlp_classifier.fit(X_train, y_train)\n",
        "\n",
        "# Test seti üzerinde tahmin yapar\n",
        "y_pred_mlp = mlp_classifier.predict(X_test)\n",
        "\n",
        "# Sınıflandırma doğruluğunu hesaplar\n",
        "mlp_accuracy = accuracy_score(y_test, y_pred_mlp)\n",
        "\n",
        "# Modelin doğruluğunu yazdırır\n",
        "print(\"MLP Sınıflandırıcı Doğruluk:\", mlp_accuracy)\n",
        "\n",
        "# Sınıflandırma raporunu yazdırır\n",
        "print(\"MLP Sınıflandırma Raporu:\")\n",
        "print(classification_report(y_test, y_pred_mlp))\n"
      ],
      "metadata": {
        "id": "O9dZ-JHScJYc",
        "colab": {
          "base_uri": "https://localhost:8080/"
        },
        "outputId": "0312314b-ae47-405e-cad7-9c1da14bae93"
      },
      "execution_count": 23,
      "outputs": [
        {
          "output_type": "stream",
          "name": "stdout",
          "text": [
            "MLP Sınıflandırıcı Doğruluk: 0.7012987012987013\n",
            "MLP Sınıflandırma Raporu:\n",
            "              precision    recall  f1-score   support\n",
            "\n",
            "         0.0       0.78      0.76      0.77       151\n",
            "         1.0       0.57      0.59      0.58        80\n",
            "\n",
            "    accuracy                           0.70       231\n",
            "   macro avg       0.67      0.67      0.67       231\n",
            "weighted avg       0.70      0.70      0.70       231\n",
            "\n"
          ]
        }
      ]
    },
    {
      "cell_type": "code",
      "source": [
        "from sklearn.metrics import mean_squared_error\n",
        "\n",
        "# Modelin tahmin ettiği etiketleri kullanarak ortalama karesel hatayı hesapla\n",
        "mse = mean_squared_error(y_test, y_pred_mlp)\n",
        "print(\"Ortalama Karesel Hata:\", mse)"
      ],
      "metadata": {
        "colab": {
          "base_uri": "https://localhost:8080/"
        },
        "id": "uBc8oC5W-LfZ",
        "outputId": "672aa02c-bc43-4c4e-c751-bfe565cf33bf"
      },
      "execution_count": 24,
      "outputs": [
        {
          "output_type": "stream",
          "name": "stdout",
          "text": [
            "Ortalama Karesel Hata: 0.2987012987012987\n"
          ]
        }
      ]
    },
    {
      "cell_type": "code",
      "source": [
        "mlp_conf_matrix = confusion_matrix(y_test, y_pred_mlp)\n",
        "\n",
        "print(\"MLP Sınıflandırıcı Konfüzyon Matrisi:\")\n",
        "print(mlp_conf_matrix)\n"
      ],
      "metadata": {
        "colab": {
          "base_uri": "https://localhost:8080/"
        },
        "id": "2lwEQ23kZoh-",
        "outputId": "b9a9df6b-089f-45d8-ec4e-b82966bfa3f9"
      },
      "execution_count": 25,
      "outputs": [
        {
          "output_type": "stream",
          "name": "stdout",
          "text": [
            "MLP Sınıflandırıcı Konfüzyon Matrisi:\n",
            "[[115  36]\n",
            " [ 33  47]]\n"
          ]
        }
      ]
    },
    {
      "cell_type": "code",
      "source": [
        "#Bu yöntem, 2x2 boyutundaki konfüzyon matrisini düzleştirir ve dört farklı hücre değerini (true negative, false positive, false negative, true positive) döndürür.\n",
        "tn, fp, fn, tp = confusion_matrix(y_test, y_pred_mlp).ravel()# Dört farklı hücre değerini ayrı değişkenlere atar.\n",
        "sensitivity = tp / (tp + fn)# Hassasiyet, gerçek pozitiflerin (TP) tüm pozitif tahminlere (TP + FN) oranını ifade eder.\n",
        "specificity = tn / (tn + fp)# Özgünlük, gerçek negatiflerin (TN) tüm negatif tahminlere (TN + FP) oranını ifade eder.\n",
        "\n",
        "print(\"Sensitivity (Duyarlılık):\", sensitivity)\n",
        "print(\"Specificity (Özgünlük):\", specificity)"
      ],
      "metadata": {
        "colab": {
          "base_uri": "https://localhost:8080/"
        },
        "id": "nKePGtfabWot",
        "outputId": "51c0f186-76b8-437b-adfb-b10548fdf32c"
      },
      "execution_count": 26,
      "outputs": [
        {
          "output_type": "stream",
          "name": "stdout",
          "text": [
            "Sensitivity (Duyarlılık): 0.5875\n",
            "Specificity (Özgünlük): 0.7615894039735099\n"
          ]
        }
      ]
    },
    {
      "cell_type": "code",
      "source": [
        "from sklearn.metrics import roc_curve, roc_auc_score\n",
        "import matplotlib.pyplot as plt\n",
        "\n",
        "# MLP sınıflandırıcısı ile olasılık tahminleri yapma\n",
        "probs_mlp = mlp_classifier.predict_proba(X_test)[:, 1]\n",
        "\n",
        "# ROC eğrisi ve AUC değerinin hesaplanması\n",
        "fpr_mlp, tpr_mlp, thresholds_mlp = roc_curve(y_test, probs_mlp)\n",
        "auc_mlp = roc_auc_score(y_test, probs_mlp)\n",
        "\n",
        "# ROC eğrisinin çizdirilmesi\n",
        "plt.figure(figsize=(8, 6))\n",
        "plt.plot(fpr_mlp, tpr_mlp, label='ROC Curve (AUC = {:.2f})'.format(auc_mlp))\n",
        "plt.plot([0, 1], [0, 1], linestyle='--', color='red', label='Random Guessing')\n",
        "plt.xlabel('False Positive Rate')\n",
        "plt.ylabel('True Positive Rate')\n",
        "plt.title('ROC Curve for MLP Classifier')\n",
        "plt.legend()\n",
        "plt.show()\n",
        "\n",
        "# AUC skorunun yazdırılması\n",
        "print(\"MLP Sınıflandırıcı AUC Skoru:\", auc_mlp)\n"
      ],
      "metadata": {
        "colab": {
          "base_uri": "https://localhost:8080/",
          "height": 582
        },
        "id": "XbY87EAhpdk_",
        "outputId": "b3b9f4ff-3afc-487a-e0c7-db61c40e0c1d"
      },
      "execution_count": 27,
      "outputs": [
        {
          "output_type": "display_data",
          "data": {
            "text/plain": [
              "<Figure size 800x600 with 1 Axes>"
            ],
            "image/png": "[encoded data removed]"
          },
          "metadata": {}
        },
        {
          "output_type": "stream",
          "name": "stdout",
          "text": [
            "MLP Sınıflandırıcı AUC Skoru: 0.7569536423841059\n"
          ]
        }
      ]
    },
    {
      "cell_type": "markdown",
      "source": [
        "# SVC"
      ],
      "metadata": {
        "id": "EUg5J2wbrzAn"
      }
    },
    {
      "cell_type": "markdown",
      "source": [
        "Support Vector Machine (Destek Vektör Makinesi), genellikle sınıflandırma ve regresyon problemlerinde kullanılan bir makine öğrenimi algoritmasıdır. SVC, SVM'nin sınıflandırma problemlerine uygulanmış halidir.\n",
        "\n",
        "SVC, sınıflandırma problemlerini çözmek için SVM algoritmasını kullanır. SVM'nin temel amacı, veri noktalarını iki veya daha fazla sınıf arasında ayıran bir hiper düzlemi belirlemektir. Bu hiper düzlem, veri noktalarını en iyi şekilde ayırmak için maksimum marjı (uzaklığı) sağlamak üzere seçilir. SVC, bu amaca yönelik olarak SVM'nin sınıflandırma için uygulanmış halidir ve sınıflandırma problemlerini çözmek için kullanılır."
      ],
      "metadata": {
        "id": "1IxLgv1nri3y"
      }
    },
    {
      "cell_type": "code",
      "source": [
        "# Veri setini train ve test setlerine ayırma, veri setini %30 u test olarak ayırılmıştır.\n",
        "X_train, X_test, y_train, y_test = train_test_split(X, y, test_size=0.3, random_state=42)"
      ],
      "metadata": {
        "id": "tgrF5bEiqAUv"
      },
      "execution_count": 28,
      "outputs": []
    },
    {
      "cell_type": "code",
      "source": [
        "from sklearn.svm import SVC  # SVM sınıflandırıcısını içe aktarır\n",
        "from sklearn.metrics import classification_report  # Sınıflandırma raporu oluşturmak için gerekli kütüphaneyi içe aktarır\n",
        "\n",
        "# SVM Sınıflandırıcıyı oluşturur ve eğitir.bir destek vektör makinesi (SVM) sınıflandırıcısı oluşturur.\n",
        "# kernel='rbf' parametresi,  doğrusal olmayan veri yapılarını modellemek için kullanılır.\n",
        "# C=1, modelin düzenleme parametresidir. random_state=42, sonuçların tekrarlanabilir olmasını sağlayan rastgele bir tohum değeridir.\n",
        "svm_classifier = SVC(kernel='rbf', C=1, random_state=42)\n",
        "\n",
        "svm_classifier.fit(X_train, y_train)\n",
        "\n",
        "# Test seti üzerinde tahmin yapar\n",
        "y_pred_svm = svm_classifier.predict(X_test)\n",
        "\n",
        "# Sınıflandırma doğruluğunu hesaplar\n",
        "svm_accuracy = accuracy_score(y_test, y_pred_svm)\n",
        "\n",
        "# Modelin doğruluğunu yazdırır\n",
        "print(\"SVM Sınıflandırıcı Doğruluk:\", svm_accuracy)\n",
        "\n",
        "# Sınıflandırma raporunu yazdırır\n",
        "print(\"SVM Sınıflandırma Raporu:\")\n",
        "print(classification_report(y_test, y_pred_svm))\n",
        "\n"
      ],
      "metadata": {
        "colab": {
          "base_uri": "https://localhost:8080/"
        },
        "id": "l8DHYtAiDGXO",
        "outputId": "5c47e779-5b8e-43d0-d922-02ab34297d6b"
      },
      "execution_count": 29,
      "outputs": [
        {
          "output_type": "stream",
          "name": "stdout",
          "text": [
            "SVM Sınıflandırıcı Doğruluk: 0.7532467532467533\n",
            "SVM Sınıflandırma Raporu:\n",
            "              precision    recall  f1-score   support\n",
            "\n",
            "         0.0       0.80      0.83      0.82       151\n",
            "         1.0       0.66      0.60      0.63        80\n",
            "\n",
            "    accuracy                           0.75       231\n",
            "   macro avg       0.73      0.72      0.72       231\n",
            "weighted avg       0.75      0.75      0.75       231\n",
            "\n"
          ]
        }
      ]
    },
    {
      "cell_type": "code",
      "source": [
        "from sklearn.model_selection import cross_val_score\n",
        "\n",
        "# SVC sınıflandırıcısı için çapraz doğrulama yap\n",
        "cross_val_scores = cross_val_score(svm_classifier, X_train, y_train, cv=5)\n",
        "\n",
        "# Çapraz doğrulama sonuçlarını yazdır\n",
        "print(\"Çapraz Doğrulama Sonuçları:\", cross_val_scores)\n",
        "print(\"Ortalama Doğruluk:\", cross_val_scores.mean())\n"
      ],
      "metadata": {
        "id": "eNekG4rMDgUR",
        "outputId": "640e6b72-05f4-4c89-add7-ed63c19ce91b",
        "colab": {
          "base_uri": "https://localhost:8080/"
        }
      },
      "execution_count": 30,
      "outputs": [
        {
          "output_type": "stream",
          "name": "stdout",
          "text": [
            "Çapraz Doğrulama Sonuçları: [0.81481481 0.77777778 0.74766355 0.74766355 0.74766355]\n",
            "Ortalama Doğruluk: 0.7671166493596401\n"
          ]
        }
      ]
    },
    {
      "cell_type": "code",
      "source": [
        "from sklearn.svm import SVC  # SVM sınıflandırıcısını içe aktarır\n",
        "from sklearn.metrics import classification_report  # Sınıflandırma raporu oluşturmak için gerekli kütüphaneyi içe aktarır\n",
        "\n",
        "# SVM Sınıflandırıcıyı oluşturur ve eğitir.bir destek vektör makinesi (SVM) sınıflandırıcısı oluşturur.\n",
        "# kernel='linear' parametresi, doğrusal bir kernel kullanılacağını belirtir.\n",
        "# C=1, modelin düzenleme parametresidir. random_state=42, sonuçların tekrarlanabilir olmasını sağlayan rastgele bir tohum değeridir.\n",
        "svm_classifier = SVC(kernel='linear', C=1, random_state=42)\n",
        "svm_classifier.fit(X_train, y_train)\n",
        "\n",
        "# Test seti üzerinde tahmin yapar\n",
        "y_pred_svm = svm_classifier.predict(X_test)\n",
        "\n",
        "# Sınıflandırma doğruluğunu hesaplar\n",
        "svm_accuracy = accuracy_score(y_test, y_pred_svm)\n",
        "\n",
        "# Modelin doğruluğunu yazdırır\n",
        "print(\"SVM Sınıflandırıcı Doğruluk:\", svm_accuracy)\n",
        "\n",
        "# Sınıflandırma raporunu yazdırır\n",
        "print(\"SVM Sınıflandırma Raporu:\")\n",
        "print(classification_report(y_test, y_pred_svm))\n",
        "\n"
      ],
      "metadata": {
        "colab": {
          "base_uri": "https://localhost:8080/"
        },
        "id": "AhpobCS2YnnL",
        "outputId": "02ee24f9-8838-476f-8fc5-45c5e2f612f6"
      },
      "execution_count": 31,
      "outputs": [
        {
          "output_type": "stream",
          "name": "stdout",
          "text": [
            "SVM Sınıflandırıcı Doğruluk: 0.7532467532467533\n",
            "SVM Sınıflandırma Raporu:\n",
            "              precision    recall  f1-score   support\n",
            "\n",
            "         0.0       0.79      0.84      0.82       151\n",
            "         1.0       0.66      0.59      0.62        80\n",
            "\n",
            "    accuracy                           0.75       231\n",
            "   macro avg       0.73      0.71      0.72       231\n",
            "weighted avg       0.75      0.75      0.75       231\n",
            "\n"
          ]
        }
      ]
    },
    {
      "cell_type": "code",
      "source": [
        "from sklearn.model_selection import cross_val_score\n",
        "\n",
        "# SVC sınıflandırıcısı için çapraz doğrulama yap\n",
        "cross_val_scores = cross_val_score(svm_classifier, X_train, y_train, cv=5)\n",
        "\n",
        "# Çapraz doğrulama sonuçlarını yazdır\n",
        "print(\"Çapraz Doğrulama Sonuçları:\", cross_val_scores)\n",
        "print(\"Ortalama Doğruluk:\", cross_val_scores.mean())\n"
      ],
      "metadata": {
        "colab": {
          "base_uri": "https://localhost:8080/"
        },
        "id": "gwuzUE4bCxRo",
        "outputId": "5d1a3117-12ba-40e4-a75b-fa82cfa4b8b4"
      },
      "execution_count": 32,
      "outputs": [
        {
          "output_type": "stream",
          "name": "stdout",
          "text": [
            "Çapraz Doğrulama Sonuçları: [0.81481481 0.76851852 0.80373832 0.72897196 0.76635514]\n",
            "Ortalama Doğruluk: 0.7764797507788161\n"
          ]
        }
      ]
    },
    {
      "cell_type": "code",
      "source": [
        "from sklearn.metrics import mean_squared_error\n",
        "\n",
        "# Modelin tahmin ettiği etiketleri kullanarak ortalama karesel hatayı hesapla\n",
        "mse = mean_squared_error(y_test, y_pred_svm)\n",
        "print(\"Ortalama Karesel Hata:\", mse)"
      ],
      "metadata": {
        "colab": {
          "base_uri": "https://localhost:8080/"
        },
        "id": "o6Ry6gjM-RaK",
        "outputId": "943307ca-b463-4c21-b49e-f4a66b666777"
      },
      "execution_count": 33,
      "outputs": [
        {
          "output_type": "stream",
          "name": "stdout",
          "text": [
            "Ortalama Karesel Hata: 0.24675324675324675\n"
          ]
        }
      ]
    },
    {
      "cell_type": "code",
      "source": [
        "svm_conf_matrix = confusion_matrix(y_test, y_pred_svm)\n",
        "\n",
        "print(\"SVM Sınıflandırıcı Konfüzyon Matrisi:\")\n",
        "print(svm_conf_matrix)"
      ],
      "metadata": {
        "colab": {
          "base_uri": "https://localhost:8080/"
        },
        "id": "Xmf3nXE4ZyIl",
        "outputId": "7911ee33-e5b7-4f1d-a269-b82245872d3d"
      },
      "execution_count": 34,
      "outputs": [
        {
          "output_type": "stream",
          "name": "stdout",
          "text": [
            "SVM Sınıflandırıcı Konfüzyon Matrisi:\n",
            "[[127  24]\n",
            " [ 33  47]]\n"
          ]
        }
      ]
    },
    {
      "cell_type": "code",
      "source": [
        "#Bu yöntem, 2x2 boyutundaki konfüzyon matrisini düzleştirir ve dört farklı hücre değerini (true negative, false positive, false negative, true positive) döndürür.\n",
        "tn, fp, fn, tp = confusion_matrix(y_test, y_pred_svm).ravel()# Dört farklı hücre değerini ayrı değişkenlere atar.\n",
        "sensitivity = tp / (tp + fn)# Hassasiyet, gerçek pozitiflerin (TP) tüm pozitif tahminlere (TP + FN) oranını ifade eder.\n",
        "specificity = tn / (tn + fp) # Özgünlük, gerçek negatiflerin (TN) tüm negatif tahminlere (TN + FP) oranını ifade eder.\n",
        "\n",
        "print(\"Sensitivity (Duyarlılık):\", sensitivity)\n",
        "print(\"Specificity (Özgünlük):\", specificity)"
      ],
      "metadata": {
        "id": "lKHEeADPbxVa",
        "colab": {
          "base_uri": "https://localhost:8080/"
        },
        "outputId": "1f759233-66f8-41d9-d94c-ed739a652e15"
      },
      "execution_count": 35,
      "outputs": [
        {
          "output_type": "stream",
          "name": "stdout",
          "text": [
            "Sensitivity (Duyarlılık): 0.5875\n",
            "Specificity (Özgünlük): 0.8410596026490066\n"
          ]
        }
      ]
    },
    {
      "cell_type": "code",
      "source": [
        "from sklearn.metrics import roc_curve, roc_auc_score\n",
        "import matplotlib.pyplot as plt\n",
        "\n",
        "# Önceden eğitilmiş SVM sınıflandırıcısı kullanılarak karar fonksiyonu değerleri elde ediliyor.\n",
        "decision_values = svm_classifier.decision_function(X_test)\n",
        "\n",
        "# Karar fonksiyonu değerlerinden tahmin edilen olasılıklar hesaplanıyor.\n",
        "# Burada, olasılık tahminleri normalize edilmiyor, bu nedenle bir ölçekte değiller.\n",
        "probs_svm = decision_values\n",
        "\n",
        "# ROC eğrisi ve AUC değerinin hesaplanması\n",
        "fpr, tpr, thresholds = roc_curve(y_test, probs_svm)\n",
        "auc = roc_auc_score(y_test, probs_svm)\n",
        "\n",
        "# ROC eğrisinin çizdirilmesi\n",
        "plt.figure(figsize=(8, 6))\n",
        "plt.plot(fpr, tpr, label='ROC Curve (AUC = {:.2f})'.format(auc))\n",
        "plt.plot([0, 1], [0, 1], linestyle='--', color='red', label='Random Guessing')\n",
        "plt.xlabel('False Positive Rate')\n",
        "plt.ylabel('True Positive Rate')\n",
        "plt.title('ROC Curve')\n",
        "plt.legend()\n",
        "plt.show()\n",
        "\n",
        "# AUC skorunun yazdırılması\n",
        "print(\"AUC Score:\", auc)\n"
      ],
      "metadata": {
        "colab": {
          "base_uri": "https://localhost:8080/",
          "height": 582
        },
        "id": "idnTU6wkoHfv",
        "outputId": "41810207-fc24-49ef-dfd8-1ff298491794"
      },
      "execution_count": 36,
      "outputs": [
        {
          "output_type": "display_data",
          "data": {
            "text/plain": [
              "<Figure size 800x600 with 1 Axes>"
            ],
            "image/png": "[encoded data removed]"
          },
          "metadata": {}
        },
        {
          "output_type": "stream",
          "name": "stdout",
          "text": [
            "AUC Score: 0.7971026490066225\n"
          ]
        }
      ]
    }
  ]
}